{
 "cells": [
  {
   "cell_type": "code",
   "execution_count": null,
   "metadata": {},
   "outputs": [],
   "source": [
    "%load_ext autoreload\n",
    "%autoreload 2\n",
    "%matplotlib inline\n",
    "\n",
    "# imports \n",
    "import os\n",
    "os.environ['MKL_THREADING_LAYER'] = 'GNU'\n",
    "os.environ['MKL_SERVICE_FORCE_INTEL'] = '1'\n",
    "from pathlib import Path\n",
    "import radipop_utils \n",
    "# import radipop_utils.visualization\n",
    "# import radipop_utils.features\n",
    "# import radipop_utils.utils\n",
    "# import radipop_utils.data\n",
    "# import radipop_utils.inference\n",
    "import radipop_utils.inference_via_total_segmentor\n",
    "\n",
    "\n",
    "dst = \"/home/cwatzenboeck/tmp/radipop_patientdev2\"   \n",
    "input_path_nii = Path(\"/home/cwatzenboeck/data/cirdata/nnUNet_raw/Dataset125_LSS/imagesAll/patient0027_0000.nii.gz\")\n",
    "radipop_utils.inference_via_total_segmentor.inference_via_total_segmentor(input_path_nii, dicom=False, output_folder=dst)"
   ]
  },
  {
   "cell_type": "code",
   "execution_count": null,
   "metadata": {},
   "outputs": [],
   "source": []
  }
 ],
 "metadata": {
  "kernelspec": {
   "display_name": "pyt3-10r",
   "language": "python",
   "name": "python3"
  },
  "language_info": {
   "codemirror_mode": {
    "name": "ipython",
    "version": 3
   },
   "file_extension": ".py",
   "mimetype": "text/x-python",
   "name": "python",
   "nbconvert_exporter": "python",
   "pygments_lexer": "ipython3",
   "version": "3.10.14"
  }
 },
 "nbformat": 4,
 "nbformat_minor": 2
}
