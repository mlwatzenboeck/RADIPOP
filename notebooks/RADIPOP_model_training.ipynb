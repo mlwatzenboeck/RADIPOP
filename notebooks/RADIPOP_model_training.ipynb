{
 "cells": [
  {
   "cell_type": "code",
   "execution_count": 1,
   "id": "7f121647",
   "metadata": {},
   "outputs": [],
   "source": [
    "import os\n",
    "import pandas as pd\n",
    "import numpy as np\n",
    "import pickle\n",
    "import numba\n",
    "from pathlib import Path\n",
    "from sklearn.model_selection import KFold\n",
    "from sklearn.ensemble import RandomForestClassifier, RandomForestRegressor\n",
    "from sklearn.metrics import roc_auc_score, roc_curve, r2_score  # plot_roc_curve\n",
    "from sklearn.metrics import RocCurveDisplay # for later sklearn versions  'plot_roc_curve'  \n",
    "# see https://stackoverflow.com/questions/60321389/sklearn-importerror-cannot-import-name-plot-roc-curve\n",
    "\n",
    "import matplotlib.pyplot as plt\n",
    "from sklearn.feature_selection import SelectFromModel\n",
    "from sklearn.pipeline import Pipeline\n",
    "from sklearn.svm import LinearSVC\n",
    "from sklearn.model_selection import GridSearchCV, RandomizedSearchCV\n",
    "from sklearn.linear_model import ElasticNet\n",
    "from sklearn.preprocessing  import StandardScaler\n",
    "\n",
    "from sklearn.base import BaseEstimator, TransformerMixin\n",
    "from scipy.cluster import hierarchy\n",
    "from scipy.spatial.distance import squareform\n",
    "from scipy.stats import spearmanr, pearsonr\n",
    "from scipy.stats import ttest_ind\n",
    "from collections import defaultdict\n",
    "import seaborn as sns\n",
    "import skopt\n",
    "import time\n",
    "\n",
    "\n",
    "import radipop_utils\n",
    "import radipop_utils.features\n",
    "from radipop_utils.features import SpearmanReducerCont\n",
    "\n",
    "# extract path of repo. \n",
    "# path = Path(os.path.abspath(radipop_utils.__file__))\n",
    "# RADIPOP_PACKAGE_ROOT = path.parent.parent"
   ]
  },
  {
   "cell_type": "code",
   "execution_count": 2,
   "id": "fc15a948",
   "metadata": {},
   "outputs": [],
   "source": [
    "os.chdir(\"C://Users/marti/OneDrive - CeMM Research Center GmbH/stuff/sma/radipop_data_check\")"
   ]
  },
  {
   "cell_type": "code",
   "execution_count": 3,
   "id": "abc07302",
   "metadata": {},
   "outputs": [],
   "source": [
    "#read feature data\n",
    "data_all = pd.read_csv(\"csv_rawFeatures_s20220720.csv\")\n",
    "data_all = data_all.rename(columns = {'Unnamed: 0' : \"ID\"})"
   ]
  },
  {
   "cell_type": "code",
   "execution_count": 4,
   "id": "7474b707",
   "metadata": {},
   "outputs": [],
   "source": [
    "# restrict to only original\n",
    "#data_all = data_all.loc[:, [x for x in data_all.columns if x.startswith(\"original_\") or x.startswith(\"ID\")]]"
   ]
  },
  {
   "cell_type": "code",
   "execution_count": 5,
   "id": "052d059a",
   "metadata": {},
   "outputs": [],
   "source": [
    "#read metadata\n",
    "data_meta = pd.read_excel(\"Celine_FINAL_RADIOPOP_DATA_with LRE Death_220708.xlsx\")"
   ]
  },
  {
   "cell_type": "code",
   "execution_count": 6,
   "id": "4d717d2d",
   "metadata": {},
   "outputs": [],
   "source": [
    "#split feature data into data from cirrhotic patients and data from healthy patients\n",
    "data_sick = data_all.loc[data_all.ID.isin(data_meta.ID), :]\n",
    "data_healthy = data_all.loc[~data_all.ID.isin(data_meta.ID), :]"
   ]
  },
  {
   "cell_type": "code",
   "execution_count": 7,
   "id": "7a22a44f",
   "metadata": {},
   "outputs": [
    {
     "name": "stdout",
     "output_type": "stream",
     "text": [
      "(442, 3)\n",
      "(442, 3)\n"
     ]
    }
   ],
   "source": [
    "#restrict metadata to relevant columns\n",
    "data_meta = data_meta.loc[:,[\"ID\", 'Training = 0, Testing = 1', \"BL_HVPG_corrected (ohne Kollat., inkor. Messungen)\"]]\n",
    "print(data_meta.shape)\n",
    "data_meta = pd.merge(pd.DataFrame({\"ID\" : data_sick.ID.values}), data_meta, how = \"left\", on = \"ID\")\n",
    "print(data_meta.shape)"
   ]
  },
  {
   "cell_type": "code",
   "execution_count": 8,
   "id": "d4070832",
   "metadata": {},
   "outputs": [],
   "source": [
    "#add healthy patients to training cohort for metadata\n",
    "data_meta_healthy = pd.DataFrame({\"ID\" : data_healthy.ID.values, \n",
    "                                  'Training = 0, Testing = 1' : 0, \n",
    "                                  \"BL_HVPG_corrected (ohne Kollat., inkor. Messungen)\" : 2.5})\n",
    "data_meta = pd.concat((data_meta, data_meta_healthy)).reset_index(drop=True)\n",
    "\n",
    "#add healthy patients to training cohort for feature data\n",
    "data_all = pd.concat((data_sick, data_healthy)).reset_index(drop=True)"
   ]
  },
  {
   "cell_type": "code",
   "execution_count": 9,
   "id": "3d639092",
   "metadata": {},
   "outputs": [],
   "source": [
    "# add HVPG column variable to not have to deal with the weird column name\n",
    "data_meta[\"HVPG\"] = data_meta[\"BL_HVPG_corrected (ohne Kollat., inkor. Messungen)\"]"
   ]
  },
  {
   "cell_type": "code",
   "execution_count": 10,
   "id": "726974b6",
   "metadata": {},
   "outputs": [],
   "source": [
    "# perform train test split\n",
    "data_train = data_all.loc[data_meta['Training = 0, Testing = 1'] == 0, :]\n",
    "meta_train = data_meta.loc[data_meta['Training = 0, Testing = 1'] == 0, :]\n",
    "\n",
    "data_test = data_all.loc[data_meta['Training = 0, Testing = 1'] == 1, :]\n",
    "meta_test = data_meta.loc[data_meta['Training = 0, Testing = 1'] == 1, :]\n"
   ]
  },
  {
   "cell_type": "code",
   "execution_count": 11,
   "id": "48d10d36",
   "metadata": {},
   "outputs": [],
   "source": [
    "#extract np arrays\n",
    "X_train, Y_train = data_train.loc[:,[x for x in data_train.columns if not x == \"ID\"]].values, meta_train.HVPG.values\n",
    "X_test, Y_test = data_test.loc[:,[x for x in data_test.columns if not x == \"ID\"]].values, meta_test.HVPG.values"
   ]
  },
  {
   "cell_type": "code",
   "execution_count": 12,
   "id": "c4a6590a",
   "metadata": {
    "scrolled": true
   },
   "outputs": [
    {
     "data": {
      "image/png": "[encoded data removed]",
      "text/plain": [
       "<Figure size 640x480 with 1 Axes>"
      ]
     },
     "metadata": {},
     "output_type": "display_data"
    }
   ],
   "source": [
    "#plot dendrogram\n",
    "corr = spearmanr(X_train).correlation\n",
    "\n",
    "# Ensure the correlation matrix is symmetric\n",
    "corr = (corr + corr.T) / 2\n",
    "np.fill_diagonal(corr, 1)\n",
    "\n",
    "# We convert the correlation matrix to a distance matrix before performing\n",
    "# hierarchical clustering using Ward's linkage.\n",
    "distance_matrix = 1 - np.abs(corr)\n",
    "dist_linkage = hierarchy.ward(squareform(distance_matrix))\n",
    "plt.figure()\n",
    "dendro = hierarchy.dendrogram(\n",
    "    dist_linkage, no_labels=True\n",
    ")"
   ]
  },
  {
   "cell_type": "code",
   "execution_count": 13,
   "id": "cced5e11",
   "metadata": {},
   "outputs": [
    {
     "name": "stdout",
     "output_type": "stream",
     "text": [
      "Selected features at height 0.5: 213\n",
      "Selected features at height 0.75: 132\n",
      "Selected features at height 1: 97\n",
      "Selected features at height 5: 9\n",
      "Selected features at height 7.5: 6\n",
      "Selected features at height 10: 3\n"
     ]
    }
   ],
   "source": [
    "#decide on cut parameters for dendrogram\n",
    "selector = SpearmanReducerCont(0.5)\n",
    "print(\"Selected features at height 0.5:\", len(selector.fit(X_train, Y_train).selected_features))\n",
    "selector = SpearmanReducerCont(0.75)\n",
    "print(\"Selected features at height 0.75:\", len(selector.fit(X_train, Y_train).selected_features))\n",
    "selector = SpearmanReducerCont(1)\n",
    "print(\"Selected features at height 1:\", len(selector.fit(X_train, Y_train).selected_features))\n",
    "selector = SpearmanReducerCont(5)\n",
    "print(\"Selected features at height 5:\", len(selector.fit(X_train, Y_train).selected_features))\n",
    "selector = SpearmanReducerCont(7.5)\n",
    "print(\"Selected features at height 7.5:\", len(selector.fit(X_train, Y_train).selected_features))\n",
    "selector = SpearmanReducerCont(10)\n",
    "print(\"Selected features at height 10:\", len(selector.fit(X_train, Y_train).selected_features))"
   ]
  },
  {
   "cell_type": "code",
   "execution_count": 14,
   "id": "0378387e",
   "metadata": {},
   "outputs": [],
   "source": [
    "# Bounds for hyperparameters\n",
    "param_bounds_rf = {\n",
    "    'feature_selection__split_param' : skopt.space.Real(1,5, prior = \"uniform\"),\n",
    "    'regression' : [RandomForestRegressor(random_state=2023)],\n",
    "    'regression__n_estimators': skopt.space.Integer(100, 2000),\n",
    "    'regression__max_depth': skopt.space.Integer(1, 50),\n",
    "    'regression__min_samples_split': skopt.space.Integer(2, 25)#,\n",
    "}\n",
    "\n",
    "\n",
    "\n",
    "param_bounds_en = {\n",
    "                 'feature_selection__split_param' : skopt.space.Real(1,5, prior = \"uniform\"),\n",
    "                 'regression' : [ElasticNet(random_state=2023)],\n",
    "                 'regression__alpha': skopt.space.Real(0.0001, 1.0, 'uniform'),\n",
    "                 'regression__l1_ratio': skopt.space.Real(0, 1.0, 'uniform')\n",
    "}\n"
   ]
  },
  {
   "cell_type": "code",
   "execution_count": 15,
   "id": "da72dcb3",
   "metadata": {},
   "outputs": [],
   "source": [
    "#create a pipeline\n",
    "reg = Pipeline([\n",
    "  #('scaler', StandardScaler()),  \n",
    "  ('feature_selection', SpearmanReducerCont()),\n",
    "  ('regression', RandomForestRegressor())\n",
    "]) "
   ]
  },
  {
   "cell_type": "code",
   "execution_count": 16,
   "id": "a8866a7d",
   "metadata": {},
   "outputs": [],
   "source": [
    "cv5 = KFold(5, shuffle=True, random_state=2023)"
   ]
  },
  {
   "cell_type": "code",
   "execution_count": 17,
   "id": "66bc1381",
   "metadata": {},
   "outputs": [
    {
     "name": "stdout",
     "output_type": "stream",
     "text": [
      "Fitting 5 folds for each of 1 candidates, totalling 5 fits\n",
      "Fitting 5 folds for each of 1 candidates, totalling 5 fits\n",
      "Fitting 5 folds for each of 1 candidates, totalling 5 fits\n",
      "Fitting 5 folds for each of 1 candidates, totalling 5 fits\n",
      "Fitting 5 folds for each of 1 candidates, totalling 5 fits\n",
      "Fitting 5 folds for each of 1 candidates, totalling 5 fits\n",
      "Fitting 5 folds for each of 1 candidates, totalling 5 fits\n",
      "Fitting 5 folds for each of 1 candidates, totalling 5 fits\n",
      "Fitting 5 folds for each of 1 candidates, totalling 5 fits\n",
      "Fitting 5 folds for each of 1 candidates, totalling 5 fits\n",
      "Fitting 5 folds for each of 1 candidates, totalling 5 fits\n",
      "Fitting 5 folds for each of 1 candidates, totalling 5 fits\n",
      "Fitting 5 folds for each of 1 candidates, totalling 5 fits\n",
      "Fitting 5 folds for each of 1 candidates, totalling 5 fits\n",
      "Fitting 5 folds for each of 1 candidates, totalling 5 fits\n",
      "Fitting 5 folds for each of 1 candidates, totalling 5 fits\n",
      "Fitting 5 folds for each of 1 candidates, totalling 5 fits\n",
      "Fitting 5 folds for each of 1 candidates, totalling 5 fits\n",
      "Fitting 5 folds for each of 1 candidates, totalling 5 fits\n",
      "Fitting 5 folds for each of 1 candidates, totalling 5 fits\n"
     ]
    },
    {
     "data": {
      "text/plain": [
       "BayesSearchCV(cv=KFold(n_splits=5, random_state=2023, shuffle=True),\n",
       "              estimator=Pipeline(steps=[('feature_selection',\n",
       "                                         SpearmanReducerCont()),\n",
       "                                        ('regression',\n",
       "                                         RandomForestRegressor())]),\n",
       "              n_jobs=6, random_state=2023, scoring='r2',\n",
       "              search_spaces=[({'feature_selection__split_param': Real(low=1, high=5, prior='uniform', transform='normalize'),\n",
       "                               'regression': [ElasticNet(r...\n",
       "                               'regression': [RandomForestRegressor(max_depth=47,\n",
       "                                                                    min_samples_split=24,\n",
       "                                                                    n_estimators=1766,\n",
       "                                                                    random_state=2023)],\n",
       "                               'regression__max_depth': Integer(low=1, high=50, prior='uniform', transform='normalize'),\n",
       "                               'regression__min_samples_split': Integer(low=2, high=25, prior='uniform', transform='normalize'),\n",
       "                               'regression__n_estimators': Integer(low=100, high=2000, prior='uniform', transform='normalize')},\n",
       "                              10)],\n",
       "              verbose=True)"
      ]
     },
     "execution_count": 17,
     "metadata": {},
     "output_type": "execute_result"
    }
   ],
   "source": [
    "#try out models\n",
    "opt0 = skopt.BayesSearchCV(\n",
    "    reg,\n",
    "    [(param_bounds_en, 10), (param_bounds_rf, 10)],\n",
    "    cv=cv5,\n",
    "    scoring=\"r2\",\n",
    "    verbose=True,\n",
    "    random_state=2023,\n",
    "    n_jobs = 6\n",
    ")\n",
    "opt0.fit(X_train, Y_train)"
   ]
  },
  {
   "cell_type": "code",
   "execution_count": 18,
   "id": "8f9d481a",
   "metadata": {},
   "outputs": [
    {
     "name": "stdout",
     "output_type": "stream",
     "text": [
      "OrderedDict([('feature_selection__split_param', 1.2475405520173637), ('regression', RandomForestRegressor(max_depth=47, min_samples_split=24, n_estimators=1766,\n",
      "                      random_state=2023)), ('regression__max_depth', 47), ('regression__min_samples_split', 24), ('regression__n_estimators', 1766)])\n"
     ]
    }
   ],
   "source": [
    "print(opt0.best_params_)"
   ]
  },
  {
   "cell_type": "code",
   "execution_count": 19,
   "id": "9ef27fa2",
   "metadata": {},
   "outputs": [
    {
     "data": {
      "text/plain": [
       "<AxesSubplot:>"
      ]
     },
     "execution_count": 19,
     "metadata": {},
     "output_type": "execute_result"
    },
    {
     "data": {
      "image/png": "[encoded data removed]",
      "text/plain": [
       "<Figure size 640x480 with 1 Axes>"
      ]
     },
     "metadata": {},
     "output_type": "display_data"
    }
   ],
   "source": [
    "cv_res = pd.DataFrame(opt0.cv_results_)\n",
    "cv_res\n",
    "cv_res.iloc[11:, :].reset_index().loc[:, \"mean_test_score\"].plot()"
   ]
  },
  {
   "cell_type": "code",
   "execution_count": 20,
   "id": "96d8590f",
   "metadata": {},
   "outputs": [
    {
     "data": {
      "text/html": [
       "<div>\n",
       "<style scoped>\n",
       "    .dataframe tbody tr th:only-of-type {\n",
       "        vertical-align: middle;\n",
       "    }\n",
       "\n",
       "    .dataframe tbody tr th {\n",
       "        vertical-align: top;\n",
       "    }\n",
       "\n",
       "    .dataframe thead th {\n",
       "        text-align: right;\n",
       "    }\n",
       "</style>\n",
       "<table border=\"1\" class=\"dataframe\">\n",
       "  <thead>\n",
       "    <tr style=\"text-align: right;\">\n",
       "      <th></th>\n",
       "      <th>mean_fit_time</th>\n",
       "      <th>std_fit_time</th>\n",
       "      <th>mean_score_time</th>\n",
       "      <th>std_score_time</th>\n",
       "      <th>param_feature_selection__split_param</th>\n",
       "      <th>param_regression</th>\n",
       "      <th>param_regression__alpha</th>\n",
       "      <th>param_regression__l1_ratio</th>\n",
       "      <th>param_regression__max_depth</th>\n",
       "      <th>param_regression__min_samples_split</th>\n",
       "      <th>param_regression__n_estimators</th>\n",
       "      <th>params</th>\n",
       "      <th>split0_test_score</th>\n",
       "      <th>split1_test_score</th>\n",
       "      <th>split2_test_score</th>\n",
       "      <th>split3_test_score</th>\n",
       "      <th>split4_test_score</th>\n",
       "      <th>mean_test_score</th>\n",
       "      <th>std_test_score</th>\n",
       "      <th>rank_test_score</th>\n",
       "    </tr>\n",
       "  </thead>\n",
       "  <tbody>\n",
       "    <tr>\n",
       "      <th>0</th>\n",
       "      <td>6.799701</td>\n",
       "      <td>0.076592</td>\n",
       "      <td>0.000812</td>\n",
       "      <td>0.000228</td>\n",
       "      <td>2.743571</td>\n",
       "      <td>ElasticNet(random_state=2023)</td>\n",
       "      <td>0.387402</td>\n",
       "      <td>0.128819</td>\n",
       "      <td>NaN</td>\n",
       "      <td>NaN</td>\n",
       "      <td>NaN</td>\n",
       "      <td>{'feature_selection__split_param': 2.743571433...</td>\n",
       "      <td>0.366304</td>\n",
       "      <td>0.306541</td>\n",
       "      <td>0.423949</td>\n",
       "      <td>0.379728</td>\n",
       "      <td>0.216051</td>\n",
       "      <td>0.338515</td>\n",
       "      <td>0.071818</td>\n",
       "      <td>12</td>\n",
       "    </tr>\n",
       "    <tr>\n",
       "      <th>1</th>\n",
       "      <td>5.958358</td>\n",
       "      <td>0.481663</td>\n",
       "      <td>0.000798</td>\n",
       "      <td>0.000399</td>\n",
       "      <td>3.284402</td>\n",
       "      <td>ElasticNet(random_state=2023)</td>\n",
       "      <td>0.985515</td>\n",
       "      <td>0.703889</td>\n",
       "      <td>NaN</td>\n",
       "      <td>NaN</td>\n",
       "      <td>NaN</td>\n",
       "      <td>{'feature_selection__split_param': 3.284402090...</td>\n",
       "      <td>0.069139</td>\n",
       "      <td>-0.028147</td>\n",
       "      <td>0.223998</td>\n",
       "      <td>0.339839</td>\n",
       "      <td>0.141605</td>\n",
       "      <td>0.149287</td>\n",
       "      <td>0.126378</td>\n",
       "      <td>20</td>\n",
       "    </tr>\n",
       "    <tr>\n",
       "      <th>2</th>\n",
       "      <td>6.444990</td>\n",
       "      <td>0.028654</td>\n",
       "      <td>0.000734</td>\n",
       "      <td>0.000648</td>\n",
       "      <td>4.149169</td>\n",
       "      <td>ElasticNet(random_state=2023)</td>\n",
       "      <td>0.721623</td>\n",
       "      <td>0.930024</td>\n",
       "      <td>NaN</td>\n",
       "      <td>NaN</td>\n",
       "      <td>NaN</td>\n",
       "      <td>{'feature_selection__split_param': 4.149169393...</td>\n",
       "      <td>0.218808</td>\n",
       "      <td>0.254544</td>\n",
       "      <td>0.223924</td>\n",
       "      <td>0.363948</td>\n",
       "      <td>0.134302</td>\n",
       "      <td>0.239105</td>\n",
       "      <td>0.074095</td>\n",
       "      <td>17</td>\n",
       "    </tr>\n",
       "    <tr>\n",
       "      <th>3</th>\n",
       "      <td>6.425179</td>\n",
       "      <td>0.086150</td>\n",
       "      <td>0.000995</td>\n",
       "      <td>0.000017</td>\n",
       "      <td>2.883225</td>\n",
       "      <td>ElasticNet(random_state=2023)</td>\n",
       "      <td>0.324929</td>\n",
       "      <td>0.066263</td>\n",
       "      <td>NaN</td>\n",
       "      <td>NaN</td>\n",
       "      <td>NaN</td>\n",
       "      <td>{'feature_selection__split_param': 2.883225269...</td>\n",
       "      <td>0.204800</td>\n",
       "      <td>0.315771</td>\n",
       "      <td>0.299928</td>\n",
       "      <td>0.371089</td>\n",
       "      <td>0.172852</td>\n",
       "      <td>0.272888</td>\n",
       "      <td>0.073289</td>\n",
       "      <td>13</td>\n",
       "    </tr>\n",
       "    <tr>\n",
       "      <th>4</th>\n",
       "      <td>6.662643</td>\n",
       "      <td>0.035597</td>\n",
       "      <td>0.000798</td>\n",
       "      <td>0.000399</td>\n",
       "      <td>3.80773</td>\n",
       "      <td>ElasticNet(random_state=2023)</td>\n",
       "      <td>0.975746</td>\n",
       "      <td>0.854681</td>\n",
       "      <td>NaN</td>\n",
       "      <td>NaN</td>\n",
       "      <td>NaN</td>\n",
       "      <td>{'feature_selection__split_param': 3.807729785...</td>\n",
       "      <td>0.218535</td>\n",
       "      <td>0.266258</td>\n",
       "      <td>0.219201</td>\n",
       "      <td>0.363806</td>\n",
       "      <td>0.129025</td>\n",
       "      <td>0.239365</td>\n",
       "      <td>0.076452</td>\n",
       "      <td>16</td>\n",
       "    </tr>\n",
       "    <tr>\n",
       "      <th>5</th>\n",
       "      <td>6.509131</td>\n",
       "      <td>0.076146</td>\n",
       "      <td>0.000399</td>\n",
       "      <td>0.000489</td>\n",
       "      <td>2.24902</td>\n",
       "      <td>ElasticNet(random_state=2023)</td>\n",
       "      <td>0.504889</td>\n",
       "      <td>0.786739</td>\n",
       "      <td>NaN</td>\n",
       "      <td>NaN</td>\n",
       "      <td>NaN</td>\n",
       "      <td>{'feature_selection__split_param': 2.249020143...</td>\n",
       "      <td>0.333398</td>\n",
       "      <td>0.376190</td>\n",
       "      <td>0.428899</td>\n",
       "      <td>0.352303</td>\n",
       "      <td>0.278831</td>\n",
       "      <td>0.353924</td>\n",
       "      <td>0.049356</td>\n",
       "      <td>11</td>\n",
       "    </tr>\n",
       "    <tr>\n",
       "      <th>6</th>\n",
       "      <td>6.941093</td>\n",
       "      <td>0.057993</td>\n",
       "      <td>0.000899</td>\n",
       "      <td>0.000491</td>\n",
       "      <td>4.406906</td>\n",
       "      <td>ElasticNet(random_state=2023)</td>\n",
       "      <td>0.261723</td>\n",
       "      <td>0.06709</td>\n",
       "      <td>NaN</td>\n",
       "      <td>NaN</td>\n",
       "      <td>NaN</td>\n",
       "      <td>{'feature_selection__split_param': 4.406905681...</td>\n",
       "      <td>0.224696</td>\n",
       "      <td>0.310734</td>\n",
       "      <td>0.241604</td>\n",
       "      <td>0.380064</td>\n",
       "      <td>0.128087</td>\n",
       "      <td>0.257037</td>\n",
       "      <td>0.084772</td>\n",
       "      <td>15</td>\n",
       "    </tr>\n",
       "    <tr>\n",
       "      <th>7</th>\n",
       "      <td>6.518052</td>\n",
       "      <td>0.061972</td>\n",
       "      <td>0.000630</td>\n",
       "      <td>0.000773</td>\n",
       "      <td>4.592474</td>\n",
       "      <td>ElasticNet(random_state=2023)</td>\n",
       "      <td>0.556117</td>\n",
       "      <td>0.92798</td>\n",
       "      <td>NaN</td>\n",
       "      <td>NaN</td>\n",
       "      <td>NaN</td>\n",
       "      <td>{'feature_selection__split_param': 4.592474169...</td>\n",
       "      <td>0.208997</td>\n",
       "      <td>0.253802</td>\n",
       "      <td>0.219442</td>\n",
       "      <td>0.366172</td>\n",
       "      <td>0.115923</td>\n",
       "      <td>0.232867</td>\n",
       "      <td>0.080789</td>\n",
       "      <td>18</td>\n",
       "    </tr>\n",
       "    <tr>\n",
       "      <th>8</th>\n",
       "      <td>6.464469</td>\n",
       "      <td>0.053807</td>\n",
       "      <td>0.000399</td>\n",
       "      <td>0.000488</td>\n",
       "      <td>3.186457</td>\n",
       "      <td>ElasticNet(random_state=2023)</td>\n",
       "      <td>0.237075</td>\n",
       "      <td>0.058609</td>\n",
       "      <td>NaN</td>\n",
       "      <td>NaN</td>\n",
       "      <td>NaN</td>\n",
       "      <td>{'feature_selection__split_param': 3.186456979...</td>\n",
       "      <td>0.196455</td>\n",
       "      <td>0.058811</td>\n",
       "      <td>0.244503</td>\n",
       "      <td>0.357273</td>\n",
       "      <td>0.169841</td>\n",
       "      <td>0.205376</td>\n",
       "      <td>0.097393</td>\n",
       "      <td>19</td>\n",
       "    </tr>\n",
       "    <tr>\n",
       "      <th>9</th>\n",
       "      <td>6.425873</td>\n",
       "      <td>0.069594</td>\n",
       "      <td>0.000602</td>\n",
       "      <td>0.000492</td>\n",
       "      <td>3.707944</td>\n",
       "      <td>ElasticNet(random_state=2023)</td>\n",
       "      <td>0.58116</td>\n",
       "      <td>0.544714</td>\n",
       "      <td>NaN</td>\n",
       "      <td>NaN</td>\n",
       "      <td>NaN</td>\n",
       "      <td>{'feature_selection__split_param': 3.707943921...</td>\n",
       "      <td>0.344782</td>\n",
       "      <td>0.271619</td>\n",
       "      <td>0.233303</td>\n",
       "      <td>0.345092</td>\n",
       "      <td>0.141291</td>\n",
       "      <td>0.267217</td>\n",
       "      <td>0.076299</td>\n",
       "      <td>14</td>\n",
       "    </tr>\n",
       "    <tr>\n",
       "      <th>10</th>\n",
       "      <td>18.951095</td>\n",
       "      <td>0.462000</td>\n",
       "      <td>0.161361</td>\n",
       "      <td>0.019629</td>\n",
       "      <td>2.510357</td>\n",
       "      <td>RandomForestRegressor(max_depth=47, min_sample...</td>\n",
       "      <td>NaN</td>\n",
       "      <td>NaN</td>\n",
       "      <td>31</td>\n",
       "      <td>11</td>\n",
       "      <td>1884</td>\n",
       "      <td>{'feature_selection__split_param': 2.510357059...</td>\n",
       "      <td>0.379126</td>\n",
       "      <td>0.605017</td>\n",
       "      <td>0.475673</td>\n",
       "      <td>0.446943</td>\n",
       "      <td>0.427416</td>\n",
       "      <td>0.466835</td>\n",
       "      <td>0.075914</td>\n",
       "      <td>9</td>\n",
       "    </tr>\n",
       "    <tr>\n",
       "      <th>11</th>\n",
       "      <td>8.331773</td>\n",
       "      <td>0.076970</td>\n",
       "      <td>0.012760</td>\n",
       "      <td>0.002301</td>\n",
       "      <td>1.080652</td>\n",
       "      <td>RandomForestRegressor(max_depth=47, min_sample...</td>\n",
       "      <td>NaN</td>\n",
       "      <td>NaN</td>\n",
       "      <td>31</td>\n",
       "      <td>20</td>\n",
       "      <td>146</td>\n",
       "      <td>{'feature_selection__split_param': 1.080652248...</td>\n",
       "      <td>0.490744</td>\n",
       "      <td>0.597322</td>\n",
       "      <td>0.486708</td>\n",
       "      <td>0.461158</td>\n",
       "      <td>0.410027</td>\n",
       "      <td>0.489192</td>\n",
       "      <td>0.061243</td>\n",
       "      <td>2</td>\n",
       "    </tr>\n",
       "    <tr>\n",
       "      <th>12</th>\n",
       "      <td>15.275651</td>\n",
       "      <td>0.253663</td>\n",
       "      <td>0.214706</td>\n",
       "      <td>0.039952</td>\n",
       "      <td>2.794182</td>\n",
       "      <td>RandomForestRegressor(max_depth=47, min_sample...</td>\n",
       "      <td>NaN</td>\n",
       "      <td>NaN</td>\n",
       "      <td>6</td>\n",
       "      <td>14</td>\n",
       "      <td>1970</td>\n",
       "      <td>{'feature_selection__split_param': 2.794182255...</td>\n",
       "      <td>0.374180</td>\n",
       "      <td>0.598299</td>\n",
       "      <td>0.476897</td>\n",
       "      <td>0.438583</td>\n",
       "      <td>0.401469</td>\n",
       "      <td>0.457885</td>\n",
       "      <td>0.078281</td>\n",
       "      <td>10</td>\n",
       "    </tr>\n",
       "    <tr>\n",
       "      <th>13</th>\n",
       "      <td>6.995522</td>\n",
       "      <td>0.061680</td>\n",
       "      <td>0.027831</td>\n",
       "      <td>0.005211</td>\n",
       "      <td>4.566352</td>\n",
       "      <td>RandomForestRegressor(max_depth=47, min_sample...</td>\n",
       "      <td>NaN</td>\n",
       "      <td>NaN</td>\n",
       "      <td>15</td>\n",
       "      <td>10</td>\n",
       "      <td>264</td>\n",
       "      <td>{'feature_selection__split_param': 4.566351912...</td>\n",
       "      <td>0.520397</td>\n",
       "      <td>0.619915</td>\n",
       "      <td>0.499450</td>\n",
       "      <td>0.369752</td>\n",
       "      <td>0.377472</td>\n",
       "      <td>0.477397</td>\n",
       "      <td>0.094042</td>\n",
       "      <td>6</td>\n",
       "    </tr>\n",
       "    <tr>\n",
       "      <th>14</th>\n",
       "      <td>27.894825</td>\n",
       "      <td>0.973306</td>\n",
       "      <td>0.156736</td>\n",
       "      <td>0.022235</td>\n",
       "      <td>1.247541</td>\n",
       "      <td>RandomForestRegressor(max_depth=47, min_sample...</td>\n",
       "      <td>NaN</td>\n",
       "      <td>NaN</td>\n",
       "      <td>47</td>\n",
       "      <td>24</td>\n",
       "      <td>1766</td>\n",
       "      <td>{'feature_selection__split_param': 1.247540552...</td>\n",
       "      <td>0.486852</td>\n",
       "      <td>0.600436</td>\n",
       "      <td>0.480573</td>\n",
       "      <td>0.470347</td>\n",
       "      <td>0.413065</td>\n",
       "      <td>0.490254</td>\n",
       "      <td>0.060991</td>\n",
       "      <td>1</td>\n",
       "    </tr>\n",
       "    <tr>\n",
       "      <th>15</th>\n",
       "      <td>13.058390</td>\n",
       "      <td>0.299984</td>\n",
       "      <td>0.211033</td>\n",
       "      <td>0.021327</td>\n",
       "      <td>3.887297</td>\n",
       "      <td>RandomForestRegressor(max_depth=47, min_sample...</td>\n",
       "      <td>NaN</td>\n",
       "      <td>NaN</td>\n",
       "      <td>34</td>\n",
       "      <td>22</td>\n",
       "      <td>1919</td>\n",
       "      <td>{'feature_selection__split_param': 3.887296884...</td>\n",
       "      <td>0.514497</td>\n",
       "      <td>0.599858</td>\n",
       "      <td>0.486656</td>\n",
       "      <td>0.407306</td>\n",
       "      <td>0.396791</td>\n",
       "      <td>0.481022</td>\n",
       "      <td>0.074570</td>\n",
       "      <td>5</td>\n",
       "    </tr>\n",
       "    <tr>\n",
       "      <th>16</th>\n",
       "      <td>9.050717</td>\n",
       "      <td>0.097612</td>\n",
       "      <td>0.084108</td>\n",
       "      <td>0.003165</td>\n",
       "      <td>3.895085</td>\n",
       "      <td>RandomForestRegressor(max_depth=47, min_sample...</td>\n",
       "      <td>NaN</td>\n",
       "      <td>NaN</td>\n",
       "      <td>12</td>\n",
       "      <td>25</td>\n",
       "      <td>827</td>\n",
       "      <td>{'feature_selection__split_param': 3.895084902...</td>\n",
       "      <td>0.515645</td>\n",
       "      <td>0.601374</td>\n",
       "      <td>0.488617</td>\n",
       "      <td>0.414949</td>\n",
       "      <td>0.396381</td>\n",
       "      <td>0.483393</td>\n",
       "      <td>0.073814</td>\n",
       "      <td>3</td>\n",
       "    </tr>\n",
       "    <tr>\n",
       "      <th>17</th>\n",
       "      <td>9.777540</td>\n",
       "      <td>0.087000</td>\n",
       "      <td>0.104914</td>\n",
       "      <td>0.008037</td>\n",
       "      <td>4.460026</td>\n",
       "      <td>RandomForestRegressor(max_depth=47, min_sample...</td>\n",
       "      <td>NaN</td>\n",
       "      <td>NaN</td>\n",
       "      <td>25</td>\n",
       "      <td>3</td>\n",
       "      <td>988</td>\n",
       "      <td>{'feature_selection__split_param': 4.460026253...</td>\n",
       "      <td>0.513606</td>\n",
       "      <td>0.609164</td>\n",
       "      <td>0.501026</td>\n",
       "      <td>0.363772</td>\n",
       "      <td>0.384240</td>\n",
       "      <td>0.474362</td>\n",
       "      <td>0.090305</td>\n",
       "      <td>8</td>\n",
       "    </tr>\n",
       "    <tr>\n",
       "      <th>18</th>\n",
       "      <td>6.766455</td>\n",
       "      <td>0.041414</td>\n",
       "      <td>0.016640</td>\n",
       "      <td>0.003468</td>\n",
       "      <td>4.30493</td>\n",
       "      <td>RandomForestRegressor(max_depth=47, min_sample...</td>\n",
       "      <td>NaN</td>\n",
       "      <td>NaN</td>\n",
       "      <td>28</td>\n",
       "      <td>16</td>\n",
       "      <td>150</td>\n",
       "      <td>{'feature_selection__split_param': 4.304929804...</td>\n",
       "      <td>0.526044</td>\n",
       "      <td>0.624265</td>\n",
       "      <td>0.488855</td>\n",
       "      <td>0.399211</td>\n",
       "      <td>0.372272</td>\n",
       "      <td>0.482130</td>\n",
       "      <td>0.090687</td>\n",
       "      <td>4</td>\n",
       "    </tr>\n",
       "    <tr>\n",
       "      <th>19</th>\n",
       "      <td>10.447029</td>\n",
       "      <td>0.216122</td>\n",
       "      <td>0.158047</td>\n",
       "      <td>0.014539</td>\n",
       "      <td>4.964756</td>\n",
       "      <td>RandomForestRegressor(max_depth=47, min_sample...</td>\n",
       "      <td>NaN</td>\n",
       "      <td>NaN</td>\n",
       "      <td>29</td>\n",
       "      <td>21</td>\n",
       "      <td>1577</td>\n",
       "      <td>{'feature_selection__split_param': 4.964755889...</td>\n",
       "      <td>0.507823</td>\n",
       "      <td>0.630594</td>\n",
       "      <td>0.496045</td>\n",
       "      <td>0.374753</td>\n",
       "      <td>0.376649</td>\n",
       "      <td>0.477173</td>\n",
       "      <td>0.095319</td>\n",
       "      <td>7</td>\n",
       "    </tr>\n",
       "  </tbody>\n",
       "</table>\n",
       "</div>"
      ],
      "text/plain": [
       "    mean_fit_time  std_fit_time  mean_score_time  std_score_time  \\\n",
       "0        6.799701      0.076592         0.000812        0.000228   \n",
       "1        5.958358      0.481663         0.000798        0.000399   \n",
       "2        6.444990      0.028654         0.000734        0.000648   \n",
       "3        6.425179      0.086150         0.000995        0.000017   \n",
       "4        6.662643      0.035597         0.000798        0.000399   \n",
       "5        6.509131      0.076146         0.000399        0.000489   \n",
       "6        6.941093      0.057993         0.000899        0.000491   \n",
       "7        6.518052      0.061972         0.000630        0.000773   \n",
       "8        6.464469      0.053807         0.000399        0.000488   \n",
       "9        6.425873      0.069594         0.000602        0.000492   \n",
       "10      18.951095      0.462000         0.161361        0.019629   \n",
       "11       8.331773      0.076970         0.012760        0.002301   \n",
       "12      15.275651      0.253663         0.214706        0.039952   \n",
       "13       6.995522      0.061680         0.027831        0.005211   \n",
       "14      27.894825      0.973306         0.156736        0.022235   \n",
       "15      13.058390      0.299984         0.211033        0.021327   \n",
       "16       9.050717      0.097612         0.084108        0.003165   \n",
       "17       9.777540      0.087000         0.104914        0.008037   \n",
       "18       6.766455      0.041414         0.016640        0.003468   \n",
       "19      10.447029      0.216122         0.158047        0.014539   \n",
       "\n",
       "   param_feature_selection__split_param  \\\n",
       "0                              2.743571   \n",
       "1                              3.284402   \n",
       "2                              4.149169   \n",
       "3                              2.883225   \n",
       "4                               3.80773   \n",
       "5                               2.24902   \n",
       "6                              4.406906   \n",
       "7                              4.592474   \n",
       "8                              3.186457   \n",
       "9                              3.707944   \n",
       "10                             2.510357   \n",
       "11                             1.080652   \n",
       "12                             2.794182   \n",
       "13                             4.566352   \n",
       "14                             1.247541   \n",
       "15                             3.887297   \n",
       "16                             3.895085   \n",
       "17                             4.460026   \n",
       "18                              4.30493   \n",
       "19                             4.964756   \n",
       "\n",
       "                                     param_regression param_regression__alpha  \\\n",
       "0                       ElasticNet(random_state=2023)                0.387402   \n",
       "1                       ElasticNet(random_state=2023)                0.985515   \n",
       "2                       ElasticNet(random_state=2023)                0.721623   \n",
       "3                       ElasticNet(random_state=2023)                0.324929   \n",
       "4                       ElasticNet(random_state=2023)                0.975746   \n",
       "5                       ElasticNet(random_state=2023)                0.504889   \n",
       "6                       ElasticNet(random_state=2023)                0.261723   \n",
       "7                       ElasticNet(random_state=2023)                0.556117   \n",
       "8                       ElasticNet(random_state=2023)                0.237075   \n",
       "9                       ElasticNet(random_state=2023)                 0.58116   \n",
       "10  RandomForestRegressor(max_depth=47, min_sample...                     NaN   \n",
       "11  RandomForestRegressor(max_depth=47, min_sample...                     NaN   \n",
       "12  RandomForestRegressor(max_depth=47, min_sample...                     NaN   \n",
       "13  RandomForestRegressor(max_depth=47, min_sample...                     NaN   \n",
       "14  RandomForestRegressor(max_depth=47, min_sample...                     NaN   \n",
       "15  RandomForestRegressor(max_depth=47, min_sample...                     NaN   \n",
       "16  RandomForestRegressor(max_depth=47, min_sample...                     NaN   \n",
       "17  RandomForestRegressor(max_depth=47, min_sample...                     NaN   \n",
       "18  RandomForestRegressor(max_depth=47, min_sample...                     NaN   \n",
       "19  RandomForestRegressor(max_depth=47, min_sample...                     NaN   \n",
       "\n",
       "   param_regression__l1_ratio param_regression__max_depth  \\\n",
       "0                    0.128819                         NaN   \n",
       "1                    0.703889                         NaN   \n",
       "2                    0.930024                         NaN   \n",
       "3                    0.066263                         NaN   \n",
       "4                    0.854681                         NaN   \n",
       "5                    0.786739                         NaN   \n",
       "6                     0.06709                         NaN   \n",
       "7                     0.92798                         NaN   \n",
       "8                    0.058609                         NaN   \n",
       "9                    0.544714                         NaN   \n",
       "10                        NaN                          31   \n",
       "11                        NaN                          31   \n",
       "12                        NaN                           6   \n",
       "13                        NaN                          15   \n",
       "14                        NaN                          47   \n",
       "15                        NaN                          34   \n",
       "16                        NaN                          12   \n",
       "17                        NaN                          25   \n",
       "18                        NaN                          28   \n",
       "19                        NaN                          29   \n",
       "\n",
       "   param_regression__min_samples_split param_regression__n_estimators  \\\n",
       "0                                  NaN                            NaN   \n",
       "1                                  NaN                            NaN   \n",
       "2                                  NaN                            NaN   \n",
       "3                                  NaN                            NaN   \n",
       "4                                  NaN                            NaN   \n",
       "5                                  NaN                            NaN   \n",
       "6                                  NaN                            NaN   \n",
       "7                                  NaN                            NaN   \n",
       "8                                  NaN                            NaN   \n",
       "9                                  NaN                            NaN   \n",
       "10                                  11                           1884   \n",
       "11                                  20                            146   \n",
       "12                                  14                           1970   \n",
       "13                                  10                            264   \n",
       "14                                  24                           1766   \n",
       "15                                  22                           1919   \n",
       "16                                  25                            827   \n",
       "17                                   3                            988   \n",
       "18                                  16                            150   \n",
       "19                                  21                           1577   \n",
       "\n",
       "                                               params  split0_test_score  \\\n",
       "0   {'feature_selection__split_param': 2.743571433...           0.366304   \n",
       "1   {'feature_selection__split_param': 3.284402090...           0.069139   \n",
       "2   {'feature_selection__split_param': 4.149169393...           0.218808   \n",
       "3   {'feature_selection__split_param': 2.883225269...           0.204800   \n",
       "4   {'feature_selection__split_param': 3.807729785...           0.218535   \n",
       "5   {'feature_selection__split_param': 2.249020143...           0.333398   \n",
       "6   {'feature_selection__split_param': 4.406905681...           0.224696   \n",
       "7   {'feature_selection__split_param': 4.592474169...           0.208997   \n",
       "8   {'feature_selection__split_param': 3.186456979...           0.196455   \n",
       "9   {'feature_selection__split_param': 3.707943921...           0.344782   \n",
       "10  {'feature_selection__split_param': 2.510357059...           0.379126   \n",
       "11  {'feature_selection__split_param': 1.080652248...           0.490744   \n",
       "12  {'feature_selection__split_param': 2.794182255...           0.374180   \n",
       "13  {'feature_selection__split_param': 4.566351912...           0.520397   \n",
       "14  {'feature_selection__split_param': 1.247540552...           0.486852   \n",
       "15  {'feature_selection__split_param': 3.887296884...           0.514497   \n",
       "16  {'feature_selection__split_param': 3.895084902...           0.515645   \n",
       "17  {'feature_selection__split_param': 4.460026253...           0.513606   \n",
       "18  {'feature_selection__split_param': 4.304929804...           0.526044   \n",
       "19  {'feature_selection__split_param': 4.964755889...           0.507823   \n",
       "\n",
       "    split1_test_score  split2_test_score  split3_test_score  \\\n",
       "0            0.306541           0.423949           0.379728   \n",
       "1           -0.028147           0.223998           0.339839   \n",
       "2            0.254544           0.223924           0.363948   \n",
       "3            0.315771           0.299928           0.371089   \n",
       "4            0.266258           0.219201           0.363806   \n",
       "5            0.376190           0.428899           0.352303   \n",
       "6            0.310734           0.241604           0.380064   \n",
       "7            0.253802           0.219442           0.366172   \n",
       "8            0.058811           0.244503           0.357273   \n",
       "9            0.271619           0.233303           0.345092   \n",
       "10           0.605017           0.475673           0.446943   \n",
       "11           0.597322           0.486708           0.461158   \n",
       "12           0.598299           0.476897           0.438583   \n",
       "13           0.619915           0.499450           0.369752   \n",
       "14           0.600436           0.480573           0.470347   \n",
       "15           0.599858           0.486656           0.407306   \n",
       "16           0.601374           0.488617           0.414949   \n",
       "17           0.609164           0.501026           0.363772   \n",
       "18           0.624265           0.488855           0.399211   \n",
       "19           0.630594           0.496045           0.374753   \n",
       "\n",
       "    split4_test_score  mean_test_score  std_test_score  rank_test_score  \n",
       "0            0.216051         0.338515        0.071818               12  \n",
       "1            0.141605         0.149287        0.126378               20  \n",
       "2            0.134302         0.239105        0.074095               17  \n",
       "3            0.172852         0.272888        0.073289               13  \n",
       "4            0.129025         0.239365        0.076452               16  \n",
       "5            0.278831         0.353924        0.049356               11  \n",
       "6            0.128087         0.257037        0.084772               15  \n",
       "7            0.115923         0.232867        0.080789               18  \n",
       "8            0.169841         0.205376        0.097393               19  \n",
       "9            0.141291         0.267217        0.076299               14  \n",
       "10           0.427416         0.466835        0.075914                9  \n",
       "11           0.410027         0.489192        0.061243                2  \n",
       "12           0.401469         0.457885        0.078281               10  \n",
       "13           0.377472         0.477397        0.094042                6  \n",
       "14           0.413065         0.490254        0.060991                1  \n",
       "15           0.396791         0.481022        0.074570                5  \n",
       "16           0.396381         0.483393        0.073814                3  \n",
       "17           0.384240         0.474362        0.090305                8  \n",
       "18           0.372272         0.482130        0.090687                4  \n",
       "19           0.376649         0.477173        0.095319                7  "
      ]
     },
     "execution_count": 20,
     "metadata": {},
     "output_type": "execute_result"
    }
   ],
   "source": [
    "cv_res"
   ]
  },
  {
   "cell_type": "code",
   "execution_count": 21,
   "id": "56d98024",
   "metadata": {},
   "outputs": [],
   "source": [
    "cv_res.to_excel(\"Bayesian_results_10_iterations_RFvsEN.xlsx\")"
   ]
  },
  {
   "cell_type": "code",
   "execution_count": 22,
   "id": "e120475d",
   "metadata": {},
   "outputs": [],
   "source": [
    "#create a pipeline\n",
    "reg = Pipeline([\n",
    "  #('scaler', StandardScaler()),  \n",
    "  ('feature_selection', SpearmanReducerCont()),\n",
    "  ('regression', RandomForestRegressor())\n",
    "]) \n"
   ]
  },
  {
   "cell_type": "code",
   "execution_count": 23,
   "id": "78475a82",
   "metadata": {},
   "outputs": [
    {
     "name": "stdout",
     "output_type": "stream",
     "text": [
      "OrderedDict([('feature_selection__split_param', 1.2475405520173637), ('regression', RandomForestRegressor(max_depth=47, min_samples_split=24, n_estimators=1766,\n",
      "                      random_state=2023)), ('regression__max_depth', 47), ('regression__min_samples_split', 24), ('regression__n_estimators', 1766)])\n"
     ]
    },
    {
     "data": {
      "text/plain": [
       "Pipeline(steps=[('feature_selection',\n",
       "                 SpearmanReducerCont(split_param=1.2475405520173637)),\n",
       "                ('regression',\n",
       "                 RandomForestRegressor(max_depth=47, min_samples_split=24,\n",
       "                                       n_estimators=1766, random_state=2023))])"
      ]
     },
     "execution_count": 23,
     "metadata": {},
     "output_type": "execute_result"
    }
   ],
   "source": [
    "#Set params\n",
    "np.random.seed(2023)\n",
    "print(opt0.best_params_)\n",
    "reg.set_params(**opt0.best_params_)"
   ]
  },
  {
   "cell_type": "code",
   "execution_count": 24,
   "id": "25f2a865",
   "metadata": {},
   "outputs": [],
   "source": [
    "#supp data - training data performance\n",
    "\n",
    "# set best performing en model (rf model has already been set)\n",
    "#create a pipeline\n",
    "reg_EN = Pipeline([\n",
    "  #('scaler', StandardScaler()),  \n",
    "  ('feature_selection', SpearmanReducerCont()),\n",
    "  ('regression', ElasticNet())\n",
    "]) \n",
    "\n",
    "reg_EN.set_params(**cv_res.iloc[5, :].params)\n",
    "\n",
    "#run 5 fold cv\n",
    "rf_train_res = np.array([])\n",
    "en_train_res = np.array([])\n",
    "obs = np.array([])\n",
    "\n",
    "for train, test in cv5.split(X_train):\n",
    "    \n",
    "    #rf\n",
    "    reg.fit(X_train[train], Y_train[train])\n",
    "    rf_train_res = np.append(rf_train_res, reg.predict(X_train[test]))\n",
    "    \n",
    "    #en\n",
    "    reg_EN.fit(X_train[train], Y_train[train])\n",
    "    en_train_res = np.append(en_train_res, reg_EN.predict(X_train[test]))\n",
    "    \n",
    "    #obs\n",
    "    obs = np.append(obs, Y_train[test])"
   ]
  },
  {
   "cell_type": "code",
   "execution_count": 25,
   "id": "7b8b2ea8",
   "metadata": {},
   "outputs": [],
   "source": [
    "res_training = pd.DataFrame({\"True_HVPG\" : obs, \n",
    "                             \"RF_HVPG\" : rf_train_res,\n",
    "                             \"EN_HVPG\" : en_train_res})\n"
   ]
  },
  {
   "cell_type": "code",
   "execution_count": 26,
   "id": "150cfe51",
   "metadata": {},
   "outputs": [],
   "source": [
    "#os.makedirs(\"model_training\")\n",
    "res_training.to_excel(\"model_training/CV_results_training_cohort.xlsx\")"
   ]
  },
  {
   "cell_type": "code",
   "execution_count": 27,
   "id": "2d267f2d",
   "metadata": {},
   "outputs": [
    {
     "data": {
      "text/plain": [
       "(0.6026794223370244, 1.693478747403296e-48)"
      ]
     },
     "execution_count": 27,
     "metadata": {},
     "output_type": "execute_result"
    }
   ],
   "source": [
    "pearsonr(obs, en_train_res)"
   ]
  },
  {
   "cell_type": "code",
   "execution_count": 28,
   "id": "527b2362",
   "metadata": {},
   "outputs": [],
   "source": [
    "#train the final model\n",
    "reg.fit(X_train, Y_train)\n",
    "res = reg.predict(X_test)\n"
   ]
  },
  {
   "cell_type": "code",
   "execution_count": 29,
   "id": "76cc09a4",
   "metadata": {},
   "outputs": [
    {
     "data": {
      "text/plain": [
       "(0.6321034889427126, 8.701146853118389e-11)"
      ]
     },
     "execution_count": 29,
     "metadata": {},
     "output_type": "execute_result"
    }
   ],
   "source": [
    "pearsonr(res, Y_test)"
   ]
  },
  {
   "cell_type": "code",
   "execution_count": 30,
   "id": "277d4d33",
   "metadata": {},
   "outputs": [
    {
     "data": {
      "text/plain": [
       "0.3885989918305509"
      ]
     },
     "execution_count": 30,
     "metadata": {},
     "output_type": "execute_result"
    }
   ],
   "source": [
    "r2_score(Y_test, res)"
   ]
  },
  {
   "cell_type": "code",
   "execution_count": 31,
   "id": "83bbdf02",
   "metadata": {},
   "outputs": [
    {
     "data": {
      "text/plain": [
       "0.8553333333333334"
      ]
     },
     "execution_count": 31,
     "metadata": {},
     "output_type": "execute_result"
    }
   ],
   "source": [
    "hvpg_cat = [0 if x < 10 else 1 for x in meta_test.HVPG]\n",
    "roc_auc_score(hvpg_cat, res)"
   ]
  },
  {
   "cell_type": "code",
   "execution_count": 32,
   "id": "52d2605f",
   "metadata": {},
   "outputs": [
    {
     "data": {
      "text/plain": [
       "(74,)"
      ]
     },
     "execution_count": 32,
     "metadata": {},
     "output_type": "execute_result"
    }
   ],
   "source": [
    "reg.named_steps[\"regression\"].feature_importances_.shape"
   ]
  },
  {
   "cell_type": "code",
   "execution_count": 33,
   "id": "a9f2b255",
   "metadata": {},
   "outputs": [
    {
     "data": {
      "text/plain": [
       "74"
      ]
     },
     "execution_count": 33,
     "metadata": {},
     "output_type": "execute_result"
    }
   ],
   "source": [
    "np.sum(reg.named_steps[\"regression\"].feature_importances_>0)"
   ]
  },
  {
   "cell_type": "code",
   "execution_count": 34,
   "id": "883caa48",
   "metadata": {},
   "outputs": [],
   "source": [
    "#export feature importances\n",
    "selector = SpearmanReducerCont(opt0.best_params_['feature_selection__split_param'])\n",
    "selector.fit(X_train, Y_train)\n",
    "features = np.array([x for x in data_train.columns if not x == \"ID\"])\n",
    "feat_imp = pd.DataFrame({\n",
    "    \"feature\": features[selector.selected_features],\n",
    "    \"importance\": reg.named_steps[\"regression\"].feature_importances_})\n",
    "feat_imp.sort_values(\"importance\", ascending=False).to_excel(\"Feature_importances_RF_regressor.xlsx\")"
   ]
  },
  {
   "cell_type": "code",
   "execution_count": 35,
   "id": "8a2064dd",
   "metadata": {},
   "outputs": [
    {
     "name": "stderr",
     "output_type": "stream",
     "text": [
      "C:\\Users\\marti\\anaconda3\\envs\\radio\\lib\\site-packages\\pandas\\core\\indexing.py:1667: SettingWithCopyWarning: \n",
      "A value is trying to be set on a copy of a slice from a DataFrame.\n",
      "Try using .loc[row_indexer,col_indexer] = value instead\n",
      "\n",
      "See the caveats in the documentation: https://pandas.pydata.org/pandas-docs/stable/user_guide/indexing.html#returning-a-view-versus-a-copy\n",
      "  self.obj[key] = value\n"
     ]
    }
   ],
   "source": [
    "#export prediction data\n",
    "meta_test.loc[:,\"rHVPG\"] = res"
   ]
  },
  {
   "cell_type": "code",
   "execution_count": 36,
   "id": "41264d9c",
   "metadata": {},
   "outputs": [],
   "source": [
    "meta_test.to_excel(\"Metadata_with_predictions.xlsx\")"
   ]
  },
  {
   "cell_type": "code",
   "execution_count": 37,
   "id": "4ed7bba2",
   "metadata": {},
   "outputs": [],
   "source": [
    "#external validation\n",
    "data_val = pd.read_excel(\"External_validation_features.xlsx\")\n",
    "\n",
    "#read hvpg for external validation cohort\n",
    "data_ext_val_hvpg = pd.read_excel(\"D:/FINAL.External_validation_cohort_RADIPOP_with_additions.xlsx\")\n",
    "\n",
    "data_ext_val_hvpg = pd.DataFrame({\"ID\" : [\"V \"+str(x) for x in data_ext_val_hvpg[\"ID paris\"]],\n",
    "                                  \"HVPG\" : data_ext_val_hvpg[\"HVPG\"]})\n",
    "\n",
    "data_ext_val_hvpg = pd.merge(pd.DataFrame({\"ID\" : data_val[\"ID\"]}), data_ext_val_hvpg, on=\"ID\")\n",
    "\n",
    "#synchronize columns\n",
    "data_val = data_val.loc[:, data_all.columns]\n",
    "\n"
   ]
  },
  {
   "cell_type": "code",
   "execution_count": 38,
   "id": "ed45c6a2",
   "metadata": {},
   "outputs": [],
   "source": [
    "X_val, Y_val = data_val.loc[:, [x for x in data_test.columns if not x == \"ID\"]].values, data_ext_val_hvpg.HVPG.values"
   ]
  },
  {
   "cell_type": "code",
   "execution_count": 39,
   "id": "c8ce835e",
   "metadata": {},
   "outputs": [],
   "source": [
    "res_val = reg.predict(X_val)"
   ]
  },
  {
   "cell_type": "code",
   "execution_count": 40,
   "id": "9de83bac",
   "metadata": {},
   "outputs": [
    {
     "data": {
      "text/plain": [
       "(0.6018412278967741, 3.781074397925596e-06)"
      ]
     },
     "execution_count": 40,
     "metadata": {},
     "output_type": "execute_result"
    }
   ],
   "source": [
    "pearsonr(res_val, Y_val)"
   ]
  },
  {
   "cell_type": "code",
   "execution_count": 41,
   "id": "4ed922db",
   "metadata": {},
   "outputs": [
    {
     "data": {
      "text/plain": [
       "0.31900425289038437"
      ]
     },
     "execution_count": 41,
     "metadata": {},
     "output_type": "execute_result"
    }
   ],
   "source": [
    "r2_score(Y_val, res_val)"
   ]
  },
  {
   "cell_type": "code",
   "execution_count": 42,
   "id": "8ba9ffcf",
   "metadata": {},
   "outputs": [
    {
     "data": {
      "text/plain": [
       "0.7783333333333333"
      ]
     },
     "execution_count": 42,
     "metadata": {},
     "output_type": "execute_result"
    }
   ],
   "source": [
    "hvpg_cat = [0 if x < 10 else 1 for x in Y_val]\n",
    "roc_auc_score(hvpg_cat, res_val)"
   ]
  },
  {
   "cell_type": "code",
   "execution_count": 43,
   "id": "c8e80ed0",
   "metadata": {},
   "outputs": [
    {
     "data": {
      "text/plain": [
       "<AxesSubplot:>"
      ]
     },
     "execution_count": 43,
     "metadata": {},
     "output_type": "execute_result"
    },
    {
     "data": {
      "image/png": "[encoded data removed]",
      "text/plain": [
       "<Figure size 640x480 with 1 Axes>"
      ]
     },
     "metadata": {},
     "output_type": "display_data"
    }
   ],
   "source": [
    "sns.regplot(x = np.array(Y_val, dtype = float), y = res_val)"
   ]
  },
  {
   "cell_type": "code",
   "execution_count": 44,
   "id": "def648d8",
   "metadata": {},
   "outputs": [],
   "source": [
    "data_ext_val_hvpg[\"rHVPG\"] = res_val\n",
    "data_ext_val_hvpg.to_excel(\"Metadata_ext_with_predictions.xlsx\")"
   ]
  },
  {
   "cell_type": "code",
   "execution_count": 45,
   "id": "50df6f0f",
   "metadata": {},
   "outputs": [],
   "source": [
    "#os.makedirs(\"Final_model\")\n",
    "with open(os.path.join(\"Final_model\", \"SpearmanRed1_RF_10.p\"), \"wb\") as fp:\n",
    "    pickle.dump(reg, fp)\n",
    "    \n",
    "with open(os.path.join(\"Final_model\", \"SpearmanRed1_RF_10_opt.p\"), \"wb\") as fp:\n",
    "    pickle.dump(opt0, fp)"
   ]
  }
 ],
 "metadata": {
  "kernelspec": {
   "display_name": "Python 3 (ipykernel)",
   "language": "python",
   "name": "python3"
  },
  "language_info": {
   "codemirror_mode": {
    "name": "ipython",
    "version": 3
   },
   "file_extension": ".py",
   "mimetype": "text/x-python",
   "name": "python",
   "nbconvert_exporter": "python",
   "pygments_lexer": "ipython3",
   "version": "3.7.11"
  }
 },
 "nbformat": 4,
 "nbformat_minor": 5
}
