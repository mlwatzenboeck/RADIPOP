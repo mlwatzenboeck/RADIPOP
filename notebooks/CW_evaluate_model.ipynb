{
 "cells": [
  {
   "cell_type": "markdown",
   "metadata": {},
   "source": [
    "### Evaluate on training and test sets\n",
    "\n",
    "At this point it is mostly a development notebook. A cleaned up version can be found at: \n",
    "`radipop_utils/tools/evaluate_model_entry_point.py`"
   ]
  },
  {
   "cell_type": "code",
   "execution_count": null,
   "metadata": {},
   "outputs": [],
   "source": [
    "%load_ext autoreload\n",
    "%autoreload 2\n",
    "\n",
    "import os\n",
    "from pathlib import Path\n",
    "import pandas as pd\n",
    "\n",
    "import radipop_utils \n",
    "import radipop_utils.visualization\n",
    "import radipop_utils.features\n",
    "import radipop_utils.inference\n",
    "import radipop_utils.data\n",
    "\n",
    "\n",
    "# load user/ system specific env variables:\n",
    "from dotenv import dotenv_values, find_dotenv\n",
    "config = dotenv_values(find_dotenv())  # load environment variables as dictionary\n",
    "\n",
    "path = Path(os.path.abspath(radipop_utils.__file__))\n",
    "RADIPOP_PACKAGE_ROOT = path.parent.parent\n",
    "\n",
    "\n",
    "##------  You will likely need to change this \n",
    "DATA_ROOT_DIRECTORY = Path(config[\"DATA_ROOT_DIRECTORY\"])\n",
    "DATASET = \"Dataset125_LSS\"\n",
    "OUTDIR = DATA_ROOT_DIRECTORY / \"radiomics\" / DATASET\n",
    "RADIOMICS_OPTION = \"radipop_222\"\n",
    "SAVE_RESULTS = False\n",
    "##-----------"
   ]
  },
  {
   "cell_type": "code",
   "execution_count": null,
   "metadata": {},
   "outputs": [],
   "source": [
    "# load the data\n",
    "df_Tr, df_iTs, df_eTs = radipop_utils.data.quickload_or_combine_radiomics_data(DATASET=DATASET, RADIOMICS_OPTION=RADIOMICS_OPTION, DATA_ROOT_DIRECTORY=DATA_ROOT_DIRECTORY, verbose=True)\n",
    "print(f\"{len(df_Tr)=}, {len(df_eTs)=}, {len(df_iTs)=}\")\n",
    "\n",
    "split_indices_CV5_Tr = radipop_utils.data.extract_CV_indices(df_Tr)\n",
    "X_Tr, Y_Tr, X_iTs, Y_iTs, X_eTs, Y_eTs = radipop_utils.data.preprocess_data(df_Tr, df_iTs, df_eTs, normalize_X=True)"
   ]
  },
  {
   "cell_type": "code",
   "execution_count": null,
   "metadata": {},
   "outputs": [],
   "source": [
    "# load_models_and_params\n",
    "model_dir = DATA_ROOT_DIRECTORY / \"radiomics\" / DATASET / \"regression\" / RADIOMICS_OPTION\n",
    "loaded_models, loaded_params, models_bare = radipop_utils.inference.load_models_and_params(model_dir = model_dir)"
   ]
  },
  {
   "cell_type": "markdown",
   "metadata": {},
   "source": [
    "### Evaluate the models on training set with rotating CV"
   ]
  },
  {
   "cell_type": "code",
   "execution_count": null,
   "metadata": {},
   "outputs": [],
   "source": [
    "modelRF = models_bare[\"RF\"].set_params(**loaded_params[\"RF\"])\n",
    "modelEN = models_bare[\"EN\"].set_params(**loaded_params[\"EN\"])\n",
    "res_training = radipop_utils.inference.fit_and_prediction_CV5_training(modelRF, modelEN, X_Tr, Y_Tr, split_indices_CV5_Tr)\n",
    "\n",
    "# display(res_training)\n",
    "if SAVE_RESULTS:\n",
    "    dst = OUTDIR / \"regression\" / RADIOMICS_OPTION / \"raw_results_training_CV5.xlsx\"\n",
    "    res_training.to_excel(dst)\n",
    "    print(f\"Results saved to {dst}\")\n",
    "    \n"
   ]
  },
  {
   "cell_type": "code",
   "execution_count": null,
   "metadata": {},
   "outputs": [],
   "source": [
    "res_training"
   ]
  },
  {
   "cell_type": "code",
   "execution_count": null,
   "metadata": {},
   "outputs": [],
   "source": [
    "# metrics:\n",
    "y_true = res_training[\"True_HVPG\"]\n",
    "y_pred_RF = res_training[\"RF_HVPG\"]\n",
    "y_pred_EN = res_training[\"EN_HVPG\"]\n",
    "\n",
    "metrics_training_CV5 = radipop_utils.inference.quantitation_metrics_RF_and_EN(y_true, y_pred_RF, y_pred_EN) \n",
    "\n",
    "if SAVE_RESULTS:\n",
    "    dst = OUTDIR / \"regression\" / RADIOMICS_OPTION / \"metrics_training_CV5.xlsx\"\n",
    "    metrics_training_CV5.to_excel(dst)\n",
    "    print(f\"Results saved to {dst}\")"
   ]
  },
  {
   "cell_type": "markdown",
   "metadata": {},
   "source": [
    "#### export feature importances"
   ]
  },
  {
   "cell_type": "code",
   "execution_count": null,
   "metadata": {},
   "outputs": [],
   "source": [
    "# dst = OUTDIR / \"regression\" / RADIOMICS_OPTION / \"Feature_importances_RF_regressor.xlsx\"\n",
    "# feature_impRF = radipop_utils.inference.get_feature_importancesRF(df_Tr, X_Tr, Y_Tr, modelRF, loaded_params)\n",
    "# feature_impRF.to_excel(dst)\n",
    "# print(f\"Feature importances saved to {dst}\")\n"
   ]
  },
  {
   "cell_type": "markdown",
   "metadata": {},
   "source": [
    "#### Evaluate on training and testsets"
   ]
  },
  {
   "cell_type": "code",
   "execution_count": null,
   "metadata": {},
   "outputs": [],
   "source": [
    "\n",
    "# load the model trained on the whole training set\n",
    "modelRF = loaded_models[\"RF\"]\n",
    "modelEN = loaded_models[\"EN\"]    \n",
    "\n",
    "# evaluate on training set (no good performance measure, but useful checking against overfitting)\n",
    "rf_res = modelRF.predict(X_Tr)\n",
    "en_res = modelEN.predict(X_Tr)\n",
    "res_Tr = pd.DataFrame({\"True_HVPG\" : Y_Tr, \n",
    "                        \"RF_HVPG\" : rf_res,\n",
    "                        \"EN_HVPG\" : en_res})\n",
    "y_true = res_Tr[\"True_HVPG\"]\n",
    "y_pred_RF = res_Tr[\"RF_HVPG\"]\n",
    "y_pred_EN = res_Tr[\"EN_HVPG\"]\n",
    "metrics_Tr = radipop_utils.inference.quantitation_metrics_RF_and_EN(y_true, y_pred_RF, y_pred_EN) \n",
    "\n",
    "\n",
    "\n",
    "# evaluate on the internal test set\n",
    "rf_res = modelRF.predict(X_iTs)\n",
    "en_res = modelEN.predict(X_iTs)\n",
    "res_iTs = pd.DataFrame({\"True_HVPG\" : Y_iTs, \n",
    "                        \"RF_HVPG\" : rf_res,\n",
    "                        \"EN_HVPG\" : en_res})\n",
    "y_true = res_iTs[\"True_HVPG\"]\n",
    "y_pred_RF = res_iTs[\"RF_HVPG\"]\n",
    "y_pred_EN = res_iTs[\"EN_HVPG\"]\n",
    "metrics_iTs = radipop_utils.inference.quantitation_metrics_RF_and_EN(y_true, y_pred_RF, y_pred_EN) \n",
    "\n",
    "\n",
    "# evaluate on the external test set\n",
    "rf_res = modelRF.predict(X_eTs)\n",
    "en_res = modelEN.predict(X_eTs)\n",
    "res_eTs = pd.DataFrame({\"True_HVPG\" : Y_eTs, \n",
    "                        \"RF_HVPG\" : rf_res,\n",
    "                        \"EN_HVPG\" : en_res})\n",
    "y_true = res_eTs[\"True_HVPG\"]\n",
    "y_pred_RF = res_eTs[\"RF_HVPG\"]\n",
    "y_pred_EN = res_eTs[\"EN_HVPG\"]\n",
    "metrics_eTs = radipop_utils.inference.quantitation_metrics_RF_and_EN(y_true, y_pred_RF, y_pred_EN) \n",
    "\n",
    "\n",
    "# save results\n",
    "if SAVE_RESULTS:\n",
    "    dst_Tr = OUTDIR / \"regression\" / RADIOMICS_OPTION / \"raw_results_training_set.xlsx\"\n",
    "    res_Tr.to_excel(dst_Tr)\n",
    "    print(f\"Results saved to {dst_Tr}\")\n",
    "\n",
    "    dst_iTs = OUTDIR / \"regression\" / RADIOMICS_OPTION / \"raw_results_internal_test_set.xlsx\"\n",
    "    res_iTs.to_excel(dst_iTs)\n",
    "    print(f\"Results saved to {dst_iTs}\")\n",
    "\n",
    "    dst_eTs = OUTDIR / \"regression\" / RADIOMICS_OPTION / \"raw_results_external_test_set.xlsx\"\n",
    "    res_eTs.to_excel(dst_eTs)\n",
    "    print(f\"Results saved to {dst_eTs}\")\n",
    "\n",
    "\n",
    "    dst_metrics_Tr = OUTDIR / \"regression\" / RADIOMICS_OPTION / \"metrics_training_set.xlsx\"\n",
    "    metrics_Tr.to_excel(dst_metrics_Tr)\n",
    "    print(f\"Metrics saved to {dst_metrics_Tr}\")\n",
    "\n",
    "    dst_metrics_iTs = OUTDIR / \"regression\" / RADIOMICS_OPTION / \"metrics_internal_test_set.xlsx\"\n",
    "    metrics_iTs.to_excel(dst_metrics_iTs)\n",
    "    print(f\"Metrics saved to {dst_metrics_iTs}\")\n",
    "\n",
    "    dst_metrics_eTs = OUTDIR / \"regression\" / RADIOMICS_OPTION / \"metrics_external_test_set.xlsx\"\n",
    "    metrics_eTs.to_excel(dst_metrics_eTs)\n",
    "    print(f\"Metrics saved to {dst_metrics_eTs}\")\n"
   ]
  },
  {
   "cell_type": "code",
   "execution_count": null,
   "metadata": {},
   "outputs": [],
   "source": [
    "metrics_Tr"
   ]
  },
  {
   "cell_type": "code",
   "execution_count": null,
   "metadata": {},
   "outputs": [],
   "source": [
    "metrics_training_CV5"
   ]
  },
  {
   "cell_type": "code",
   "execution_count": null,
   "metadata": {},
   "outputs": [],
   "source": [
    "metrics_iTs"
   ]
  },
  {
   "cell_type": "code",
   "execution_count": null,
   "metadata": {},
   "outputs": [],
   "source": [
    "metrics_eTs"
   ]
  },
  {
   "cell_type": "code",
   "execution_count": null,
   "metadata": {},
   "outputs": [],
   "source": []
  }
 ],
 "metadata": {
  "kernelspec": {
   "display_name": "pyt3-9",
   "language": "python",
   "name": "python3"
  },
  "language_info": {
   "codemirror_mode": {
    "name": "ipython",
    "version": 3
   },
   "file_extension": ".py",
   "mimetype": "text/x-python",
   "name": "python",
   "nbconvert_exporter": "python",
   "pygments_lexer": "ipython3",
   "version": "3.10.14"
  }
 },
 "nbformat": 4,
 "nbformat_minor": 2
}
