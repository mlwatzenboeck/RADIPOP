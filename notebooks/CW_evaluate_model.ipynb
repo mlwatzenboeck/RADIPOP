{
 "cells": [
  {
   "cell_type": "markdown",
   "metadata": {},
   "source": [
    "#### Evaluate on training and test sets\n"
   ]
  },
  {
   "cell_type": "code",
   "execution_count": null,
   "metadata": {},
   "outputs": [],
   "source": [
    "%load_ext autoreload\n",
    "%autoreload 2\n",
    "\n",
    "import os\n",
    "from pathlib import Path\n",
    "import yaml\n",
    "import pandas as pd\n",
    "import numpy as np\n",
    "import pickle\n",
    "import numba\n",
    "from typing import Literal, Union\n",
    "from glob import glob\n",
    "from sklearn.model_selection import KFold\n",
    "from sklearn.ensemble import RandomForestClassifier, RandomForestRegressor\n",
    "from sklearn.metrics import roc_auc_score, roc_curve, r2_score, RocCurveDisplay\n",
    "# see https://stackoverflow.com/questions/60321389/sklearn-importerror-cannot-import-name-plot-roc-curve\n",
    "\n",
    "import matplotlib.pyplot as plt\n",
    "from sklearn.feature_selection import SelectFromModel\n",
    "from sklearn.pipeline import Pipeline\n",
    "from sklearn.svm import LinearSVC\n",
    "from sklearn.model_selection import GridSearchCV, RandomizedSearchCV\n",
    "from sklearn.linear_model import ElasticNet\n",
    "from sklearn.preprocessing  import StandardScaler\n",
    "\n",
    "\n",
    "from sklearn.base import BaseEstimator, TransformerMixin\n",
    "from scipy.cluster import hierarchy\n",
    "from scipy.spatial.distance import squareform\n",
    "from scipy.stats import spearmanr, pearsonr\n",
    "from scipy.stats import ttest_ind\n",
    "from collections import defaultdict\n",
    "import seaborn as sns\n",
    "import skopt\n",
    "import time\n",
    "import re \n",
    "\n",
    "import radipop_utils \n",
    "import radipop_utils.visualization\n",
    "import radipop_utils.features\n",
    "from radipop_utils.features import SpearmanReducerCont\n",
    "import radipop_utils.utils\n",
    "from radipop_utils.utils import get_files_dict_by_regex_pattern\n",
    "\n",
    "import radipop_utils.data\n",
    "\n",
    "from sklearn.metrics import mean_squared_error, mean_absolute_error\n",
    "\n",
    "\n",
    "# load user/ system specific env variables:\n",
    "from dotenv import dotenv_values, find_dotenv\n",
    "config = dotenv_values(find_dotenv())  # load environment variables as dictionary\n",
    "\n",
    "path = Path(os.path.abspath(radipop_utils.__file__))\n",
    "RADIPOP_PACKAGE_ROOT = path.parent.parent\n",
    "\n",
    "\n",
    "##------  You will likely need to change this \n",
    "DATA_ROOT_DIRECTORY = Path(config[\"DATA_ROOT_DIRECTORY\"])\n",
    "OUTDIR = DATA_ROOT_DIRECTORY / \"radiomics\" / \"Dataset125_LSS\" \n",
    "DATASET = \"Dataset125_LSS\"\n",
    "RADIOMICS_OPTION = \"radipop_111\"\n",
    "SAVE_RESULTS = False\n",
    "##-----------\n",
    "\n"
   ]
  },
  {
   "cell_type": "code",
   "execution_count": null,
   "metadata": {},
   "outputs": [],
   "source": [
    "# load the data\n",
    "df_Tr, df_iTs, df_eTs = radipop_utils.data.load_HVPG_values_and_radiomics(DATASET=DATASET, RADIOMICS_OPTION=RADIOMICS_OPTION, DATA_ROOT_DIRECTORY=DATA_ROOT_DIRECTORY)\n",
    "print(f\"{len(df_Tr)=}, {len(df_eTs)=}, {len(df_iTs)=}\")\n",
    "\n",
    "split_indices_CV5_Tr = radipop_utils.data.extract_CV_indices(df_Tr)\n",
    "X_Tr, Y_Tr, X_iTs, Y_iTs, X_eTs, Y_eTs = radipop_utils.data.preprocess_data(df_Tr, df_iTs, df_eTs, normalize_X=True)"
   ]
  },
  {
   "cell_type": "code",
   "execution_count": null,
   "metadata": {},
   "outputs": [],
   "source": [
    "def load_models_and_params(model_dir : Union[str, Path]) -> tuple:\n",
    "  model_dir = Path(model_dir)\n",
    "  # Load RF model\n",
    "  reg_RF = Pipeline([\n",
    "    ('feature_selection', SpearmanReducerCont()),\n",
    "    ('regression', RandomForestRegressor())\n",
    "  ])\n",
    "\n",
    "  # Load EN model\n",
    "  reg_EN = Pipeline([\n",
    "    ('feature_selection', SpearmanReducerCont()),\n",
    "    ('regression', ElasticNet())\n",
    "  ])\n",
    "\n",
    "  models_bare = dict(RF=reg_RF, EN=reg_EN)\n",
    "\n",
    "  loaded_params = dict()\n",
    "  loaded_models = dict()\n",
    "  for model in models_bare.keys():\n",
    "    # Load hyperparameters\n",
    "    filename = model_dir / f\"SpearmanRed1_{model}_opt_params.yml\"\n",
    "    with open(filename) as f:\n",
    "      loaded_hyperparams = yaml.safe_load(f)\n",
    "    loaded_params[model] = loaded_hyperparams\n",
    "\n",
    "    # Load the model\n",
    "    filename = model_dir / f\"SpearmanRed1_{model}_opt.p\"\n",
    "    loaded_model = pickle.load(open(filename, 'rb'))\n",
    "    loaded_models[model] = loaded_model\n",
    "\n",
    "  return loaded_models, loaded_params, models_bare\n",
    "\n"
   ]
  },
  {
   "cell_type": "code",
   "execution_count": null,
   "metadata": {},
   "outputs": [],
   "source": [
    "model_dir = DATA_ROOT_DIRECTORY / \"radiomics\" / DATASET / \"regression\" / RADIOMICS_OPTION\n",
    "loaded_models, loaded_params, models_bare = load_models_and_params(model_dir = model_dir)"
   ]
  },
  {
   "cell_type": "markdown",
   "metadata": {},
   "source": [
    "### Evaluate the models on training set with rotating CV\n"
   ]
  },
  {
   "cell_type": "code",
   "execution_count": null,
   "metadata": {},
   "outputs": [],
   "source": [
    "modelRF = models_bare[\"RF\"].set_params(**loaded_params[\"RF\"])\n",
    "modelEN = models_bare[\"EN\"].set_params(**loaded_params[\"EN\"])\n",
    "\n",
    "#run 5 fold cv\n",
    "rf_train_res = np.array([])\n",
    "en_train_res = np.array([])\n",
    "obs = np.array([])\n",
    "\n",
    "for train, test in split_indices_CV5_Tr:\n",
    "    \n",
    "    #rf\n",
    "    modelRF.fit(X_Tr[train], Y_Tr[train])\n",
    "    rf_train_res = np.append(rf_train_res, modelRF.predict(X_Tr[test]))\n",
    "    \n",
    "    #en\n",
    "    modelEN.fit(X_Tr[train], Y_Tr[train])\n",
    "    en_train_res = np.append(en_train_res, modelEN.predict(X_Tr[test]))\n",
    "    \n",
    "    #obs\n",
    "    obs = np.append(obs, Y_Tr[test])\n",
    "    \n",
    "\n",
    "res_training = pd.DataFrame({\"True_HVPG\" : obs, \n",
    "                             \"RF_HVPG\" : rf_train_res,\n",
    "                             \"EN_HVPG\" : en_train_res})\n",
    "\n",
    "display(res_training)\n",
    "\n"
   ]
  },
  {
   "cell_type": "code",
   "execution_count": null,
   "metadata": {},
   "outputs": [],
   "source": [
    "# metrics:\n",
    "\n",
    "def quantitation_metrics_RF_and_EN(y_true, y_pred_RF, y_pred_EN):\n",
    "    y_true_cat = np.array([0 if x < 10 else 1 for x in y_true])\n",
    "\n",
    "    y_pred = y_pred_RF\n",
    "    results = dict(r2_score = r2_score(y_true, y_pred), \n",
    "                mean_absolute_error = mean_squared_error(y_true, y_pred, squared=False), \n",
    "                roc_auc_score = roc_auc_score(y_true_cat, y_pred),\n",
    "                pearsonr = pearsonr(y_true, y_pred).correlation,\n",
    "    )\n",
    "    df_RF = pd.DataFrame(results, index=[\"RF\"])\n",
    "\n",
    "\n",
    "    y_pred = y_pred_EN\n",
    "    results = dict(r2_score = r2_score(y_true, y_pred), \n",
    "                mean_absolute_error = mean_squared_error(y_true, y_pred, squared=False), \n",
    "                roc_auc_score = roc_auc_score(y_true_cat, y_pred),\n",
    "                pearsonr = pearsonr(y_true, y_pred).correlation,\n",
    "    )\n",
    "    df_EN = pd.DataFrame(results, index=[\"EN\"])\n",
    "\n",
    "    return pd.concat([df_RF, df_EN])\n",
    "\n",
    "\n",
    "y_true = res_training[\"True_HVPG\"]\n",
    "y_pred_RF = res_training[\"RF_HVPG\"]\n",
    "y_pred_EN = res_training[\"EN_HVPG\"]\n",
    "\n",
    "quantitation_metrics_RF_and_EN(y_true, y_pred_RF, y_pred_EN) "
   ]
  },
  {
   "cell_type": "markdown",
   "metadata": {},
   "source": [
    "#### export feature importances"
   ]
  },
  {
   "cell_type": "code",
   "execution_count": null,
   "metadata": {},
   "outputs": [],
   "source": [
    "\n",
    "selector = SpearmanReducerCont(loaded_params[\"RF\"]['feature_selection__split_param'])\n",
    "selector.fit(X_Tr, Y_Tr)\n",
    "\n",
    "\n",
    "features = np.array(df_Tr.filter(regex=\"^liver|^spleen\").columns)\n",
    "feat_imp = pd.DataFrame({\n",
    "    \"feature\": features[selector.selected_features],\n",
    "    \"importance\": modelRF.named_steps[\"regression\"].feature_importances_})\n",
    "feat_imp.sort_values(\"importance\", ascending=False)#.to_excel(OUTDIR / \"model_training\" / \"Feature_importances_RF_regressor.xlsx\")\n",
    "#export prediction data\n",
    "#meta_test.loc[:,\"rHVPG\"] = res\n",
    "\n",
    "\n",
    "# meta_test.to_excel(OUTDIR / \"model_training\" / \"Metadata_with_predictions.xlsx\")\n"
   ]
  },
  {
   "cell_type": "markdown",
   "metadata": {},
   "source": [
    "#### Evaluate on internal testset "
   ]
  },
  {
   "cell_type": "code",
   "execution_count": null,
   "metadata": {},
   "outputs": [],
   "source": [
    "# load the model trained on the whole training set\n",
    "modelRF = loaded_models[\"RF\"]\n",
    "modelEN = loaded_models[\"EN\"]    \n",
    "\n",
    "\n",
    "rf_res = modelRF.predict(X_iTs)\n",
    "en_res = modelEN.predict(X_iTs)\n",
    "\n",
    "res_iTs = pd.DataFrame({\"True_HVPG\" : Y_iTs, \n",
    "                        \"RF_HVPG\" : rf_res,\n",
    "                        \"EN_HVPG\" : en_res}\n",
    "                       )\n",
    "\n",
    "rf_res = modelRF.predict(X_eTs)\n",
    "en_res = modelEN.predict(X_eTs)\n",
    "\n",
    "res_eTs = pd.DataFrame({\"True_HVPG\" : Y_eTs, \n",
    "                        \"RF_HVPG\" : rf_res,\n",
    "                        \"EN_HVPG\" : en_res}\n",
    "                       )\n",
    "\n"
   ]
  },
  {
   "cell_type": "code",
   "execution_count": null,
   "metadata": {},
   "outputs": [],
   "source": [
    "# TODO save the results"
   ]
  }
 ],
 "metadata": {
  "kernelspec": {
   "display_name": "pyt3-9",
   "language": "python",
   "name": "python3"
  },
  "language_info": {
   "codemirror_mode": {
    "name": "ipython",
    "version": 3
   },
   "file_extension": ".py",
   "mimetype": "text/x-python",
   "name": "python",
   "nbconvert_exporter": "python",
   "pygments_lexer": "ipython3",
   "version": "3.9.18"
  }
 },
 "nbformat": 4,
 "nbformat_minor": 2
}
