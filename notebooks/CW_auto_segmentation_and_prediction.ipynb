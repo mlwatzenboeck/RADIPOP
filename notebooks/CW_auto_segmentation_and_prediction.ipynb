{
 "cells": [
  {
   "cell_type": "code",
   "execution_count": null,
   "metadata": {},
   "outputs": [],
   "source": [
    "%load_ext autoreload\n",
    "%autoreload 2\n",
    "%matplotlib inline\n",
    "\n",
    "# imports \n",
    "import os\n",
    "os.environ['MKL_THREADING_LAYER'] = 'GNU'\n",
    "os.environ['MKL_SERVICE_FORCE_INTEL'] = '1'\n",
    "from pathlib import Path\n",
    "import numpy as np\n",
    "import pandas as pd\n",
    "import matplotlib.pyplot as plt\n",
    "import SimpleITK as sitk\n",
    "\n",
    "import nibabel as nib\n",
    "from totalsegmentator.python_api import totalsegmentator\n",
    "\n",
    "import radipop_utils \n",
    "import radipop_utils.visualization\n",
    "import radipop_utils.features\n",
    "import radipop_utils.utils\n",
    "\n",
    "from radipop_utils.features import (\n",
    "    convert_and_extract_from_nii,\n",
    ")\n",
    "\n",
    "\n",
    "# load user/ system specific env variables:\n",
    "from dotenv import dotenv_values, find_dotenv\n",
    "config = dotenv_values(find_dotenv())  # load environment variables as dictionary\n",
    "\n",
    "# path to the data. You will (likely need to change this)\n",
    "DATA_ROOT_DIRECTORY = Path(config[\"DATA_ROOT_DIRECTORY\"])\n",
    "\n",
    "\n",
    "# needed for loading the settings for the radiomics feature extractor \n",
    "path = Path(os.path.abspath(radipop_utils.__file__))\n",
    "RADIPOP_PACKAGE_ROOT = path.parent.parent\n",
    "\n",
    "\n",
    "\n",
    "# plan: \n",
    "    # convert dicom to nifti (optional step lateron)\n",
    "    # run the totalsegmentator on the nifti\n",
    "    # save masks  as nifti\n",
    "\n",
    "    # load trained scalar prediciton model\n",
    "    # run on the nifti (image + masks)\n"
   ]
  },
  {
   "cell_type": "code",
   "execution_count": null,
   "metadata": {},
   "outputs": [],
   "source": [
    "# convert from dictom to nifti\n",
    "sample_dicom_path = Path(\"/home/cwatzenboeck/data/project_segmenation_ls/2024_muw_additional_DICOMs/V.313 horos\")\n",
    "tmp_wd_path  = Path(\"/home/cwatzenboeck/tmp/radipop_tmp_wd\")\n",
    "subfolder_name = \"patient_dev\"\n",
    "\n",
    "radipop_utils.utils.dcm2nii(sample_dicom_path, tmp_wd_path, out_id = subfolder_name)\n",
    "\n"
   ]
  },
  {
   "cell_type": "code",
   "execution_count": null,
   "metadata": {},
   "outputs": [],
   "source": []
  },
  {
   "cell_type": "code",
   "execution_count": null,
   "metadata": {},
   "outputs": [],
   "source": [
    "if __name__ == \"__main__\":\n",
    "    input_path = tmp_wd_path / subfolder_name / \"base.nii.gz\"\n",
    "    output_path = tmp_wd_path / subfolder_name / \"mask_ts.nii.gz\"\n",
    "    input_img = nib.load(input_path)\n",
    "    output_img = totalsegmentator(input_img)\n",
    "    nib.save(output_img, output_path)\n",
    "    \n",
    "    "
   ]
  },
  {
   "cell_type": "code",
   "execution_count": null,
   "metadata": {},
   "outputs": [],
   "source": [
    "# # load image and plot overlayed masks + image for one slice:\n",
    "image_loc = input_path\n",
    "mask_loc = output_path\n",
    "\n",
    "mask = sitk.ReadImage(output_path)\n",
    "#img = sitk.ReadImage(image_loc)\n",
    "img = convert_and_extract_from_nii(image_loc, out_range=[0, 1.0], wl=50, ww=500, dtype=np.float64)  \n",
    "\n",
    "img_array = sitk.GetArrayFromImage(img)\n",
    "mask_array = sitk.GetArrayFromImage(mask)\n",
    "print(img_array.shape, mask_array.shape)\n"
   ]
  },
  {
   "cell_type": "code",
   "execution_count": null,
   "metadata": {},
   "outputs": [],
   "source": [
    "\n",
    "idx = 300\n",
    "image_xy_slice = img_array[idx, :, :]\n",
    "label_xy_slice = mask_array[idx, :, :]\n",
    "\n",
    "crop = lambda x: radipop_utils.visualization.crop_image(x, top_ratio=0.15, bottom_ratio=0.2, left_ratio=0.05, right_ratio=0.02)\n",
    "image_xy_slice = crop(image_xy_slice)\n",
    "label_xy_slice = crop(label_xy_slice)\n",
    "\n",
    "color_dictionary = {\n",
    "    'violet': (170/255, 48/255, 127/255, 0.35),\n",
    "    'blue':   (0, 0, 1, 0.35),\n",
    "}\n",
    "#                                         ct               liver                        spleen                      \n",
    "radipop_utils.visualization.overlay_masks(image_xy_slice, [label_xy_slice==5,           label_xy_slice==1], \n",
    "                                                          [color_dictionary['violet'],  color_dictionary['blue']]);\n",
    "radipop_utils.visualization.overlay_masks(image_xy_slice, [], []);"
   ]
  },
  {
   "cell_type": "code",
   "execution_count": null,
   "metadata": {},
   "outputs": [],
   "source": [
    "img_array.shape"
   ]
  },
  {
   "cell_type": "code",
   "execution_count": null,
   "metadata": {},
   "outputs": [],
   "source": [
    "print(\"done\")"
   ]
  },
  {
   "cell_type": "code",
   "execution_count": null,
   "metadata": {},
   "outputs": [],
   "source": []
  }
 ],
 "metadata": {
  "kernelspec": {
   "display_name": "pyt3-9",
   "language": "python",
   "name": "python3"
  },
  "language_info": {
   "codemirror_mode": {
    "name": "ipython",
    "version": 3
   },
   "file_extension": ".py",
   "mimetype": "text/x-python",
   "name": "python",
   "nbconvert_exporter": "python",
   "pygments_lexer": "ipython3",
   "version": "3.10.14"
  }
 },
 "nbformat": 4,
 "nbformat_minor": 2
}
