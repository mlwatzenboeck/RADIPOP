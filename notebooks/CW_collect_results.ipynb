{
 "cells": [
  {
   "cell_type": "markdown",
   "metadata": {},
   "source": [
    "#### Collect result metrics"
   ]
  },
  {
   "cell_type": "code",
   "execution_count": null,
   "metadata": {},
   "outputs": [],
   "source": [
    "%load_ext autoreload\n",
    "%autoreload 2\n",
    "\n",
    "import os\n",
    "from pathlib import Path\n",
    "import pandas as pd\n",
    "\n",
    "import radipop_utils \n",
    "import radipop_utils.visualization\n",
    "import radipop_utils.features\n",
    "import radipop_utils.inference\n",
    "import radipop_utils.data\n",
    "\n",
    "\n",
    "# load user/ system specific env variables:\n",
    "from dotenv import dotenv_values, find_dotenv\n",
    "config = dotenv_values(find_dotenv())  # load environment variables as dictionary\n",
    "\n",
    "path = Path(os.path.abspath(radipop_utils.__file__))\n",
    "RADIPOP_PACKAGE_ROOT = path.parent.parent\n",
    "DATA_ROOT_DIRECTORY = Path(config[\"DATA_ROOT_DIRECTORY\"])\n",
    "\n",
    "\n",
    "DATA_ROOT_DIRECTORY\n",
    "\n"
   ]
  },
  {
   "cell_type": "code",
   "execution_count": null,
   "metadata": {},
   "outputs": [],
   "source": [
    "# Define the experiments and load metric files\n",
    "\n",
    "exp_125_111 = {\"notes\": \"\", \n",
    "               \"spacing\": (1,1,1), \n",
    "               \"segmentation\": \"nnUNet\",\n",
    "               \"path\": DATA_ROOT_DIRECTORY / \"radiomics/Dataset125_LSS/regression\" / \"radipop_111\"}\n",
    "exp_125_211 = {\"notes\": \"\", \n",
    "               \"spacing\": (2,1,1), \n",
    "               \"segmentation\": \"nnUNet\",\n",
    "               \"path\": DATA_ROOT_DIRECTORY / \"radiomics/Dataset125_LSS/regression\" / \"radipop_211\"}\n",
    "exp_125_222 = {\"notes\": \"\", \n",
    "               \"spacing\": (2,2,2), \n",
    "               \"segmentation\": \"nnUNet\",\n",
    "               \"path\": DATA_ROOT_DIRECTORY / \"radiomics/Dataset125_LSS/regression\" / \"radipop_222\"}\n",
    "\n",
    "exp_125_median = {\"notes\": \"\", \n",
    "               \"spacing\": (2.0, 0.71875, 0.71875), \n",
    "               \"segmentation\": \"nnUNet\",\n",
    "                  \"path\": DATA_ROOT_DIRECTORY / \"radiomics/Dataset125_LSS/regression\" / \"radipop_median\"}\n",
    "\n",
    "exp_302 = {\"notes\": \"\", \n",
    "               \"spacing\": (12, \"?\", \"?\"), \n",
    "               \"segmentation\": \"nnUNet\",\n",
    "           \"path\": DATA_ROOT_DIRECTORY / \"radiomics/Dataset302/regression\" / \"radiomics\"}\n",
    "\n",
    "\n",
    "\n",
    "\n",
    "\n",
    "experiments = dict(exp_125_111=exp_125_111, exp_125_211=exp_125_211, exp_125_222=exp_125_222, exp_125_median=exp_125_median, exp_302=exp_302)\n",
    "metric_files = [\"metrics_training_set.xlsx\", \"metrics_training_CV5.xlsx\", \"metrics_internal_test_set.xlsx\", \"metrics_external_test_set.xlsx\"]\n",
    "r = radipop_utils.inference.process_metric_files(experiments, metric_files)\n"
   ]
  },
  {
   "cell_type": "code",
   "execution_count": null,
   "metadata": {},
   "outputs": [],
   "source": [
    "r['metrics_training_set'].round(2)"
   ]
  },
  {
   "cell_type": "code",
   "execution_count": null,
   "metadata": {},
   "outputs": [],
   "source": [
    "r[\"metrics_training_CV5\"].round(2)"
   ]
  },
  {
   "cell_type": "code",
   "execution_count": null,
   "metadata": {},
   "outputs": [],
   "source": [
    "r['metrics_internal_test_set'].round(2)"
   ]
  },
  {
   "cell_type": "code",
   "execution_count": null,
   "metadata": {},
   "outputs": [],
   "source": [
    "r['metrics_external_test_set'].round(2)"
   ]
  },
  {
   "cell_type": "code",
   "execution_count": null,
   "metadata": {},
   "outputs": [],
   "source": []
  }
 ],
 "metadata": {
  "kernelspec": {
   "display_name": "pyt3-9",
   "language": "python",
   "name": "python3"
  },
  "language_info": {
   "codemirror_mode": {
    "name": "ipython",
    "version": 3
   },
   "file_extension": ".py",
   "mimetype": "text/x-python",
   "name": "python",
   "nbconvert_exporter": "python",
   "pygments_lexer": "ipython3",
   "version": "3.9.18"
  }
 },
 "nbformat": 4,
 "nbformat_minor": 2
}
