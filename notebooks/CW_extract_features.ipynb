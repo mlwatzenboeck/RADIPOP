{
 "cells": [
  {
   "cell_type": "code",
   "execution_count": null,
   "metadata": {},
   "outputs": [],
   "source": [
    "# imports \n",
    "import os\n",
    "import time\n",
    "import pickle\n",
    "import importlib\n",
    "from collections import defaultdict\n",
    "from pathlib import Path\n",
    "import json\n",
    "\n",
    "import numpy as np\n",
    "import pandas as pd\n",
    "import seaborn as sns\n",
    "import matplotlib.pyplot as plt\n",
    "\n",
    "import pydicom\n",
    "import nibabel as nib\n",
    "import dicom2nifti\n",
    "import dicom2nifti.settings as settings\n",
    "settings.disable_validate_slice_increment()\n",
    "import SimpleITK as sitk\n",
    "from PIL import Image\n",
    "from radiomics import featureextractor as extractor\n",
    "from glob import glob\n",
    "\n",
    "import numba\n",
    "from scipy.cluster import hierarchy\n",
    "from scipy.spatial.distance import squareform\n",
    "from scipy.stats import spearmanr, pearsonr, ttest_ind\n",
    "\n",
    "from sklearn.model_selection import KFold, GridSearchCV, RandomizedSearchCV\n",
    "from sklearn.ensemble import RandomForestClassifier, RandomForestRegressor\n",
    "from sklearn.metrics import RocCurveDisplay\n",
    "from sklearn.metrics import roc_auc_score, roc_curve, r2_score  # plot_roc_curve\n",
    "from sklearn.feature_selection import SelectFromModel\n",
    "from sklearn.pipeline import Pipeline\n",
    "from sklearn.svm import LinearSVC\n",
    "from sklearn.linear_model import ElasticNet\n",
    "from sklearn.preprocessing import StandardScaler\n",
    "from sklearn.base import BaseEstimator, TransformerMixin\n",
    "\n",
    "\n",
    "import re\n",
    "from pathlib import Path\n",
    "from collections import defaultdict\n",
    "\n",
    "# # custom imports:\n",
    "import cseg_utils\n",
    "import cseg_utils.utils\n",
    "import cseg_utils.project_specific.hvpg.dataset\n",
    "from cseg_utils.project_specific.hvpg.dataset.dataset import load_image_hvpg_data_and_split_info, get_files_dict_by_regex_pattern\n",
    "from typing import Literal \n",
    "\n",
    "import radipop_utils \n",
    "import radipop_utils.visualization\n",
    "import radipop_utils.features\n",
    "\n",
    "\n",
    "# load user/ system specific env variables:\n",
    "from dotenv import dotenv_values, find_dotenv\n",
    "config = dotenv_values(find_dotenv())  # load environment variables as dictionary\n",
    "\n",
    "# path to the data. You will (likely need to change this)\n",
    "DATA_ROOT_DIRECTORY = Path(config[\"DATA_ROOT_DIRECTORY\"])\n",
    "\n",
    "import os\n",
    "from pathlib import Path\n",
    "import radipop_utils\n",
    "\n",
    "# needed for loading the settings for the radiomics feature extractor \n",
    "path = Path(os.path.abspath(radipop_utils.__file__))\n",
    "RADIPOP_PACKAGE_ROOT = path.parent.parent\n"
   ]
  },
  {
   "cell_type": "markdown",
   "metadata": {},
   "source": [
    "**Notes:** DICOM to NII conversion\n",
    "We will assume that this was already done. \n",
    "If not, you can use the function: `radipop_utils.utils.dcm2nii` as such:\n",
    "\n",
    "```python\n",
    "# convert one dicom folder: \n",
    "out_path = Path(\"/path/to/where/you/want/the/nii/files/\")\n",
    "path_input_single = Path(\"/path/to/dicom/folder\")\n",
    "radipop_utils.utils.dcm2nii(path_input_single, out_path, out_id = \"patient12345\")\n",
    "```\n",
    "\n",
    "We moreover assume that the segementation masks are available. In the case of the RADIPOP manuscript these were generated with a custom segmentation software used by the radiologists. This software is available upon request."
   ]
  },
  {
   "cell_type": "code",
   "execution_count": null,
   "metadata": {},
   "outputs": [],
   "source": [
    "\n",
    "\n",
    "dataset = \"Dataset125_LSS\"\n",
    "#df = load_image_hvpg_data_and_split_info(DATA_ROOT_DIRECTORY, dataset=dataset)\n",
    "# df.to_excel(RADIPOP_PACKAGE_ROOT / \"data\" / \"file_paths_and_hvpg_data.xlsx\")\n",
    "\n",
    "\n",
    "df = pd.read_excel(RADIPOP_PACKAGE_ROOT / \"data\" / \"file_paths_and_hvpg_data.xlsx\")\n",
    "\n",
    "# df.head()"
   ]
  },
  {
   "cell_type": "code",
   "execution_count": null,
   "metadata": {},
   "outputs": [],
   "source": [
    "\n",
    "RADIOMICS_DIR = DATA_ROOT_DIRECTORY / \"radiomics\" / dataset / \"radipop\"\n",
    "os.makedirs(RADIOMICS_DIR, exist_ok=True)\n"
   ]
  },
  {
   "cell_type": "markdown",
   "metadata": {},
   "source": [
    "Let's visualize how our masks /cts look like. This is of course optional"
   ]
  },
  {
   "cell_type": "code",
   "execution_count": null,
   "metadata": {},
   "outputs": [],
   "source": [
    "# # load image and plot overlayed masks + image for one slice:\n",
    "\n",
    "img_loc = df.loc[0, \"images\"]\n",
    "mask_loc = df.loc[0, \"masks\"]\n",
    "patientid = df.loc[0, \"id\"]\n",
    "\n",
    "mask = sitk.ReadImage(mask_loc)\n",
    "img = sitk.ReadImage(img_loc)\n",
    "\n",
    "img_array = sitk.GetArrayFromImage(img)\n",
    "mask_array = sitk.GetArrayFromImage(mask)\n",
    "\n",
    "idx = 120\n",
    "image_xy_slice = img_array[idx, :, :]\n",
    "label_xy_slice = mask_array[idx, :, :]\n",
    "\n",
    "crop = lambda x: radipop_utils.visualization.crop_image(x, top_ratio=0.15, bottom_ratio=0.2, left_ratio=0.05, right_ratio=0.02)\n",
    "image_xy_slice = crop(image_xy_slice)\n",
    "label_xy_slice = crop(label_xy_slice)\n",
    "\n",
    "color_dictionary = {\n",
    "    'violet': (170/255, 48/255, 127/255, 0.25),\n",
    "    'blue':   (0, 0, 1, 0.25),\n",
    "}\n",
    "#                                         ct               liver                        spleen                      \n",
    "radipop_utils.visualization.overlay_masks(image_xy_slice, [label_xy_slice==1,           label_xy_slice==2], \n",
    "                                                          [color_dictionary['violet'],  color_dictionary['blue']]);"
   ]
  },
  {
   "cell_type": "code",
   "execution_count": null,
   "metadata": {},
   "outputs": [],
   "source": [
    "fe_setting = RADIPOP_PACKAGE_ROOT / \"yaml\" / \"exampleCT.yaml\"\n"
   ]
  },
  {
   "cell_type": "code",
   "execution_count": null,
   "metadata": {},
   "outputs": [],
   "source": [
    "image_loc = df.loc[0, \"images\"]\n",
    "mask_loc = df.loc[0, \"masks\"]\n",
    "patientid = df.loc[0, \"id\"]\n",
    "\n",
    "tissue_class_dct = {\"liver\": 1, \"spleen\": 2}\n",
    "tissue_class_dct = {\"liver\": 1}\n",
    "\n",
    "# radipop_utils.features.extract_and_save_features_from_nii(patientid,\n",
    "#                                    image_loc,\n",
    "#                                    mask_loc,\n",
    "#                                    output_dir=RADIOMICS_DIR,\n",
    "#                                    fe_settings_path=fe_settings\n",
    "#                                    )\n",
    "\n",
    "\n",
    "\n"
   ]
  },
  {
   "cell_type": "code",
   "execution_count": null,
   "metadata": {},
   "outputs": [],
   "source": []
  },
  {
   "cell_type": "code",
   "execution_count": null,
   "metadata": {},
   "outputs": [],
   "source": []
  },
  {
   "cell_type": "code",
   "execution_count": null,
   "metadata": {},
   "outputs": [],
   "source": [
    "\n"
   ]
  },
  {
   "cell_type": "code",
   "execution_count": null,
   "metadata": {},
   "outputs": [],
   "source": []
  },
  {
   "cell_type": "code",
   "execution_count": null,
   "metadata": {},
   "outputs": [],
   "source": [
    "plt.hist(sitk.GetArrayFromImage(img_transformed).ravel())"
   ]
  },
  {
   "cell_type": "code",
   "execution_count": null,
   "metadata": {},
   "outputs": [],
   "source": [
    "\n",
    "img_transformed = convert_and_extract_from_nii(image_loc, out_range=[0, 255], wl=60, ww=400, dtype=np.uint8)  \n",
    "\n",
    "img_array = sitk.GetArrayFromImage(img_transformed)\n",
    "mask_array = sitk.GetArrayFromImage(mask)\n",
    "\n",
    "idx = 120\n",
    "image_xy_slice = img_array[idx, :, :]\n",
    "label_xy_slice = mask_array[idx, :, :]\n",
    "\n",
    "crop = lambda x: radipop_utils.visualization.crop_image(x, top_ratio=0.15, bottom_ratio=0.2, left_ratio=0.05, right_ratio=0.02)\n",
    "image_xy_slice = crop(image_xy_slice)\n",
    "label_xy_slice = crop(label_xy_slice)\n",
    "\n",
    "color_dictionary = {\n",
    "    'violet': (170/255, 48/255, 127/255, 0.35),\n",
    "    'blue':   (0, 0, 1, 0.35),\n",
    "}\n",
    "#                                         ct               liver                        spleen                      \n",
    "radipop_utils.visualization.overlay_masks(image_xy_slice, [label_xy_slice==1,           label_xy_slice==2], \n",
    "                                                          [color_dictionary['violet'],  color_dictionary['blue']]);"
   ]
  },
  {
   "cell_type": "code",
   "execution_count": null,
   "metadata": {},
   "outputs": [],
   "source": [
    "\n",
    "img_transformed = convert_and_extract_from_nii(image_loc, out_range=[-1, 1], wl=50, ww=500, dtype=np.float64)   # typical window for soft tissue  # original was : wl =  60, ww = 400\n",
    "\n",
    "img_array = sitk.GetArrayFromImage(img_transformed)\n",
    "mask_array = sitk.GetArrayFromImage(mask)\n",
    "\n",
    "idx = 120\n",
    "image_xy_slice = img_array[idx, :, :]\n",
    "label_xy_slice = mask_array[idx, :, :]\n",
    "\n",
    "crop = lambda x: radipop_utils.visualization.crop_image(x, top_ratio=0.15, bottom_ratio=0.2, left_ratio=0.05, right_ratio=0.02)\n",
    "image_xy_slice = crop(image_xy_slice)\n",
    "label_xy_slice = crop(label_xy_slice)\n",
    "\n",
    "color_dictionary = {\n",
    "    'violet': (170/255, 48/255, 127/255, 0.35),\n",
    "    'blue':   (0, 0, 1, 0.35),\n",
    "}\n",
    "#                                         ct               liver                        spleen                      \n",
    "radipop_utils.visualization.overlay_masks(image_xy_slice, [label_xy_slice==1,           label_xy_slice==2], \n",
    "                                                          [color_dictionary['violet'],  color_dictionary['blue']]);"
   ]
  },
  {
   "cell_type": "code",
   "execution_count": null,
   "metadata": {},
   "outputs": [],
   "source": []
  }
 ],
 "metadata": {
  "kernelspec": {
   "display_name": "pyt3-9",
   "language": "python",
   "name": "python3"
  },
  "language_info": {
   "codemirror_mode": {
    "name": "ipython",
    "version": 3
   },
   "file_extension": ".py",
   "mimetype": "text/x-python",
   "name": "python",
   "nbconvert_exporter": "python",
   "pygments_lexer": "ipython3",
   "version": "3.9.18"
  }
 },
 "nbformat": 4,
 "nbformat_minor": 2
}
