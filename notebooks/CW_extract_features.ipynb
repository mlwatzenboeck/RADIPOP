{
 "cells": [
  {
   "cell_type": "markdown",
   "metadata": {},
   "source": [
    "### CW_extract_features.ipynb\n",
    "\n",
    "This is mostly a development notebook to test out some of the functionality. \n",
    "E.g. intensity windowing. (It seems that this is very important for the model's performace. Which I only know, because I forgot it in the beginning, and it then did not work at all)"
   ]
  },
  {
   "cell_type": "code",
   "execution_count": null,
   "metadata": {},
   "outputs": [],
   "source": [
    "%load_ext autoreload\n",
    "%autoreload 2\n",
    "\n",
    "# imports \n",
    "import os\n",
    "from pathlib import Path\n",
    "import numpy as np\n",
    "import pandas as pd\n",
    "import matplotlib.pyplot as plt\n",
    "import SimpleITK as sitk\n",
    "\n",
    "# # # custom imports:\n",
    "# import cseg_utils.utils\n",
    "# import cseg_utils.project_specific.hvpg.dataset\n",
    "# from cseg_utils.project_specific.hvpg.dataset.dataset import load_image_hvpg_data_and_split_info, get_files_dict_by_regex_pattern\n",
    "\n",
    "import radipop_utils \n",
    "import radipop_utils.visualization\n",
    "import radipop_utils.features\n",
    "from radipop_utils.features import (\n",
    "    convert_and_extract_from_nii,\n",
    ")\n",
    "\n",
    "\n",
    "# load user/ system specific env variables:\n",
    "from dotenv import dotenv_values, find_dotenv\n",
    "config = dotenv_values(find_dotenv())  # load environment variables as dictionary\n",
    "\n",
    "# path to the data. You will (likely need to change this)\n",
    "DATA_ROOT_DIRECTORY = Path(config[\"DATA_ROOT_DIRECTORY\"])\n",
    "\n",
    "import os\n",
    "from pathlib import Path\n",
    "import radipop_utils\n",
    "\n",
    "# needed for loading the settings for the radiomics feature extractor \n",
    "path = Path(os.path.abspath(radipop_utils.__file__))\n",
    "RADIPOP_PACKAGE_ROOT = path.parent.parent\n"
   ]
  },
  {
   "cell_type": "markdown",
   "metadata": {},
   "source": [
    "**Notes:** DICOM to NII conversion\n",
    "We will assume that this was already done. \n",
    "If not, you can use the function: `radipop_utils.utils.dcm2nii` as such:\n",
    "\n",
    "```python\n",
    "# convert one dicom folder: \n",
    "out_path = Path(\"/path/to/where/you/want/the/nii/files/\")\n",
    "path_input_single = Path(\"/path/to/dicom/folder\")\n",
    "radipop_utils.utils.dcm2nii(path_input_single, out_path, out_id = \"patient12345\")\n",
    "```\n",
    "\n",
    "We moreover assume that the segementation masks are available. In the case of the RADIPOP manuscript these were generated with a custom segmentation software used by the radiologists. This software is available upon request."
   ]
  },
  {
   "cell_type": "code",
   "execution_count": null,
   "metadata": {},
   "outputs": [],
   "source": [
    "# create file with paths of masks and images (using nnUNet results)\n",
    "#\n",
    "#dataset = \"Dataset125_LSS\"\n",
    "#df = load_image_hvpg_data_and_split_info(DATA_ROOT_DIRECTORY, dataset=dataset)\n",
    "\n",
    "# df.to_excel(RADIPOP_PACKAGE_ROOT / \"data\" / \"file_paths_and_hvpg_data.xlsx\")\n",
    "\n",
    "#df = pd.read_excel(RADIPOP_PACKAGE_ROOT / \"data\" / \"file_paths_and_hvpg_data.xlsx\")"
   ]
  },
  {
   "cell_type": "code",
   "execution_count": null,
   "metadata": {},
   "outputs": [],
   "source": [
    "# create file with paths for **downsampled** dataset \n",
    "\n",
    "# dataset = \"Dataset302\"\n",
    "# DATA_ROOT_DIRECTORY_2 = \"/home/cwatzenboeck/data/nnUNet_frame\"\n",
    "# # df = load_image_hvpg_data_and_split_info(DATA_ROOT_DIRECTORY_2, dataset=dataset, use_nnUNet_segmentation=False)\n",
    "\n",
    "# # # check existence: \n",
    "# # for i in range(len(df)): \n",
    "# #     p = df.loc[0, \"masks\"]\n",
    "# #     assert os.path.isfile(p), f\"{p} is not a file/ does not exist\"\n",
    "# #     p = df.loc[0, \"images\"]\n",
    "# #     assert os.path.isfile(p), f\"{p} is not a file/ does not exist\"\n",
    "\n",
    "\n",
    "# # df.to_excel(RADIPOP_PACKAGE_ROOT / \"data\" / f\"file_paths_and_hvpg_data_{dataset}.xlsx\")\n",
    "\n",
    "# df = pd.read_excel(RADIPOP_PACKAGE_ROOT / \"data\" / f\"file_paths_and_hvpg_data_{dataset}.xlsx\")\n"
   ]
  },
  {
   "cell_type": "code",
   "execution_count": null,
   "metadata": {},
   "outputs": [],
   "source": [
    "#  create file with paths original dataset (as close as possible to Sin et al. )\n",
    "\n",
    "dataset = \"Dataset125_LSS\"\n",
    "# DATA_ROOT_DIRECTORY_2 = \"/home/cwatzenboeck/data/nnUNet_frame\"\n",
    "# df = load_image_hvpg_data_and_split_info(DATA_ROOT_DIRECTORY_2, dataset=dataset, use_nnUNet_segmentation=False)\n",
    "\n",
    "# # # check existence: \n",
    "# for i in range(len(df)): \n",
    "#     p = df.loc[0, \"masks\"]\n",
    "#     assert os.path.isfile(p), f\"{p} is not a file/ does not exist\"\n",
    "#     p = df.loc[0, \"images\"]\n",
    "#     assert os.path.isfile(p), f\"{p} is not a file/ does not exist\"\n",
    "\n",
    "\n",
    "#df.to_excel(RADIPOP_PACKAGE_ROOT / \"data\" / f\"file_paths_and_hvpg_data_{dataset}_no_autoseg.xlsx\")\n",
    "df = pd.read_excel(RADIPOP_PACKAGE_ROOT / \"data\" / f\"file_paths_and_hvpg_data_{dataset}_no_autoseg.xlsx\")\n",
    "\n"
   ]
  },
  {
   "cell_type": "code",
   "execution_count": null,
   "metadata": {},
   "outputs": [],
   "source": [
    "# filter out the healthy patients where we do not have HVPG data:\n",
    "m1 = df[\"set type\"] == \"external Ts\"\n",
    "m2 = df[~m1][\"id\"].apply(lambda x: int(x.split(\"patient\")[-1])) < 1000\n",
    "m = m1 | m2\n",
    "\n",
    "df_true = df[m]\n",
    "df_true.to_excel(RADIPOP_PACKAGE_ROOT / \"data\" / f\"file_paths_and_hvpg_data_{dataset}_only_real_data.xlsx\")"
   ]
  },
  {
   "cell_type": "code",
   "execution_count": null,
   "metadata": {},
   "outputs": [],
   "source": [
    "# list(df.loc[0, [\"images\", \"masks\"]])"
   ]
  },
  {
   "cell_type": "code",
   "execution_count": null,
   "metadata": {},
   "outputs": [],
   "source": [
    "\n",
    "# RADIOMICS_DIR = DATA_ROOT_DIRECTORY / \"radiomics\" / dataset / \"radipop\"\n",
    "# os.makedirs(RADIOMICS_DIR, exist_ok=True)\n"
   ]
  },
  {
   "cell_type": "markdown",
   "metadata": {},
   "source": [
    "Let's visualize how our masks /cts look like. This is of course optional"
   ]
  },
  {
   "cell_type": "code",
   "execution_count": null,
   "metadata": {},
   "outputs": [],
   "source": [
    "# # load image and plot overlayed masks + image for one slice:\n",
    "# note that this has a bad contrast. It is better to use some windowing. \n",
    "\n",
    "image_loc = df.loc[0, \"images\"]\n",
    "mask_loc = df.loc[0, \"masks\"]\n",
    "patientid = df.loc[0, \"id\"]\n",
    "\n",
    "mask = sitk.ReadImage(mask_loc)\n",
    "img = sitk.ReadImage(image_loc)\n",
    "\n",
    "img_array = sitk.GetArrayFromImage(img)\n",
    "mask_array = sitk.GetArrayFromImage(mask)\n",
    "print(img_array.shape, mask_array.shape)\n",
    "\n",
    "idx = 120\n",
    "image_xy_slice = img_array[idx, :, :]\n",
    "label_xy_slice = mask_array[idx, :, :]\n",
    "\n",
    "crop = lambda x: radipop_utils.visualization.crop_image(x, top_ratio=0.15, bottom_ratio=0.2, left_ratio=0.05, right_ratio=0.02)\n",
    "image_xy_slice = crop(image_xy_slice)\n",
    "label_xy_slice = crop(label_xy_slice)\n",
    "\n",
    "color_dictionary = {\n",
    "    'violet': (170/255, 48/255, 127/255, 0.35),\n",
    "    'blue':   (0, 0, 1, 0.35),\n",
    "}\n",
    "#                                         ct               liver                        spleen                      \n",
    "radipop_utils.visualization.overlay_masks(image_xy_slice, [label_xy_slice==1,           label_xy_slice==2], \n",
    "                                                          [color_dictionary['violet'],  color_dictionary['blue']]);\n",
    "radipop_utils.visualization.overlay_masks(image_xy_slice, [], []);"
   ]
  },
  {
   "cell_type": "code",
   "execution_count": null,
   "metadata": {},
   "outputs": [],
   "source": []
  },
  {
   "cell_type": "code",
   "execution_count": null,
   "metadata": {},
   "outputs": [],
   "source": [
    "# Perform some windowing on the image: \n",
    "# a typical soft tissue window is  \n",
    "# wl=50, ww=500\n",
    "# in the paper a slightly different one was used:\n",
    "# wl=60, ww=400 \n",
    "\n",
    "# fe_setting = RADIPOP_PACKAGE_ROOT / \"yaml\" / \"exampleCT.yaml\" # not needed ... \n",
    "\n",
    "\n",
    "img_transformed = convert_and_extract_from_nii(image_loc, out_range=[0, 255], wl=60, ww=400, dtype=np.uint8)  \n",
    "\n",
    "img_array = sitk.GetArrayFromImage(img_transformed)\n",
    "mask_array = sitk.GetArrayFromImage(mask)\n",
    "\n",
    "idx = 120\n",
    "image_xy_slice = img_array[idx, :, :]\n",
    "label_xy_slice = mask_array[idx, :, :]\n",
    "\n",
    "crop = lambda x: radipop_utils.visualization.crop_image(x, top_ratio=0.15, bottom_ratio=0.2, left_ratio=0.05, right_ratio=0.02)\n",
    "image_xy_slice = crop(image_xy_slice)\n",
    "label_xy_slice = crop(label_xy_slice)\n",
    "\n",
    "color_dictionary = {\n",
    "    'violet': (170/255, 48/255, 127/255, 0.35),\n",
    "    'blue':   (0, 0, 1, 0.35),\n",
    "}\n",
    "#                                         ct               liver                        spleen                      \n",
    "radipop_utils.visualization.overlay_masks(image_xy_slice, [label_xy_slice==1,           label_xy_slice==2], \n",
    "                                                          [color_dictionary['violet'],  color_dictionary['blue']]);\n",
    "\n",
    "radipop_utils.visualization.overlay_masks(image_xy_slice, [], []);"
   ]
  },
  {
   "cell_type": "code",
   "execution_count": null,
   "metadata": {},
   "outputs": [],
   "source": []
  },
  {
   "cell_type": "code",
   "execution_count": null,
   "metadata": {},
   "outputs": [],
   "source": []
  }
 ],
 "metadata": {
  "kernelspec": {
   "display_name": "pyt3-9",
   "language": "python",
   "name": "python3"
  },
  "language_info": {
   "codemirror_mode": {
    "name": "ipython",
    "version": 3
   },
   "file_extension": ".py",
   "mimetype": "text/x-python",
   "name": "python",
   "nbconvert_exporter": "python",
   "pygments_lexer": "ipython3",
   "version": "3.10.14"
  }
 },
 "nbformat": 4,
 "nbformat_minor": 2
}
